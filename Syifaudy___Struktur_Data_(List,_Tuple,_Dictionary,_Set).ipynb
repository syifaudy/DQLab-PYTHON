{
  "nbformat": 4,
  "nbformat_minor": 0,
  "metadata": {
    "colab": {
      "provenance": [],
      "toc_visible": true
    },
    "kernelspec": {
      "name": "python3",
      "display_name": "Python 3"
    },
    "language_info": {
      "name": "python"
    }
  },
  "cells": [
    {
      "cell_type": "markdown",
      "source": [
        "# List"
      ],
      "metadata": {
        "id": "jLgx8o0UpJZ9"
      }
    },
    {
      "cell_type": "code",
      "execution_count": 57,
      "metadata": {
        "colab": {
          "base_uri": "https://localhost:8080/"
        },
        "id": "mgBwIe3LL6Wu",
        "outputId": "c03825d5-49d3-4f15-d829-a3b6c4074b01"
      },
      "outputs": [
        {
          "output_type": "stream",
          "name": "stdout",
          "text": [
            "['Amir', 'Budi', 'Cinta', 'Dimas', 'Edi']\n"
          ]
        }
      ],
      "source": [
        "# Variable nama_teman (list) berisi lima nama teman\n",
        "\n",
        "nama_teman = ['Amir', 'Budi', 'Cinta', 'Dimas', 'Edi']\n",
        "print(nama_teman)"
      ]
    },
    {
      "cell_type": "code",
      "source": [
        "# List berisi nilai dengan tipe data berbeda\n",
        "\n",
        "acak = ['Amir', 18, 0.75, 'Jeruk']\n",
        "print(acak)"
      ],
      "metadata": {
        "colab": {
          "base_uri": "https://localhost:8080/"
        },
        "id": "7JtTgxqRPP-e",
        "outputId": "091f2f09-f96c-4726-9c9e-90e745759fd2"
      },
      "execution_count": 58,
      "outputs": [
        {
          "output_type": "stream",
          "name": "stdout",
          "text": [
            "['Amir', 18, 0.75, 'Jeruk']\n"
          ]
        }
      ]
    },
    {
      "cell_type": "code",
      "source": [
        "print(type(acak))"
      ],
      "metadata": {
        "colab": {
          "base_uri": "https://localhost:8080/"
        },
        "id": "Quv0L-5wWKp2",
        "outputId": "16b03c6b-b8ce-42e8-b9a1-c33ccf25b057"
      },
      "execution_count": 59,
      "outputs": [
        {
          "output_type": "stream",
          "name": "stdout",
          "text": [
            "<class 'list'>\n"
          ]
        }
      ]
    },
    {
      "cell_type": "code",
      "source": [
        "# List berisi value duplikat\n",
        "\n",
        "buah = ['Jeruk', 'Melon', 'Apel', 'Jeruk']\n",
        "print(buah)"
      ],
      "metadata": {
        "colab": {
          "base_uri": "https://localhost:8080/"
        },
        "id": "hB3zThcOgl_T",
        "outputId": "b75f1e15-d533-4c6a-be46-b216d3e19b94"
      },
      "execution_count": 60,
      "outputs": [
        {
          "output_type": "stream",
          "name": "stdout",
          "text": [
            "['Jeruk', 'Melon', 'Apel', 'Jeruk']\n"
          ]
        }
      ]
    },
    {
      "cell_type": "code",
      "source": [
        "# Memanggil value berdasarkan index\n",
        "\n",
        "nama_teman[1]"
      ],
      "metadata": {
        "colab": {
          "base_uri": "https://localhost:8080/",
          "height": 36
        },
        "id": "KyWiAJmoUHit",
        "outputId": "204db661-a154-4df6-f70b-d46b6b3e25ef"
      },
      "execution_count": 61,
      "outputs": [
        {
          "output_type": "execute_result",
          "data": {
            "text/plain": [
              "'Budi'"
            ],
            "application/vnd.google.colaboratory.intrinsic+json": {
              "type": "string"
            }
          },
          "metadata": {},
          "execution_count": 61
        }
      ]
    },
    {
      "cell_type": "code",
      "source": [
        "# Mengganti value pada index tertentu\n",
        "# Budi akan digantikan dengan Beni\n",
        "\n",
        "nama_teman[1] = 'Beni'\n",
        "print(nama_teman)"
      ],
      "metadata": {
        "colab": {
          "base_uri": "https://localhost:8080/"
        },
        "id": "oS2T-Ny_UJl4",
        "outputId": "cf7cb5c9-37cd-4d54-8f7b-f40d4d687dac"
      },
      "execution_count": 62,
      "outputs": [
        {
          "output_type": "stream",
          "name": "stdout",
          "text": [
            "['Amir', 'Beni', 'Cinta', 'Dimas', 'Edi']\n"
          ]
        }
      ]
    },
    {
      "cell_type": "code",
      "source": [
        "# Slicing pada list\n",
        "\n",
        "bil = [50, 70, 90, 30, 20, 10, 60, 70, 30, 50]\n",
        "\n",
        "print(bil[0:3])\n",
        "\n",
        "print(bil[::2])\n",
        "\n",
        "print(bil[::-1])\n"
      ],
      "metadata": {
        "colab": {
          "base_uri": "https://localhost:8080/"
        },
        "id": "PrsKuErQg2Kj",
        "outputId": "1ff8f159-12dc-4578-8bd6-a8ef0c212a19"
      },
      "execution_count": 63,
      "outputs": [
        {
          "output_type": "stream",
          "name": "stdout",
          "text": [
            "[50, 70, 90]\n",
            "[50, 90, 20, 60, 30]\n",
            "[50, 30, 70, 60, 10, 20, 30, 90, 70, 50]\n"
          ]
        }
      ]
    },
    {
      "cell_type": "code",
      "source": [
        "# Menampilkan panjang nama_teman\n",
        "\n",
        "len(nama_teman)"
      ],
      "metadata": {
        "colab": {
          "base_uri": "https://localhost:8080/"
        },
        "id": "M3C5VDzGjvIB",
        "outputId": "553a757d-9664-48ad-d1e2-ab9f1338a1cc"
      },
      "execution_count": 64,
      "outputs": [
        {
          "output_type": "execute_result",
          "data": {
            "text/plain": [
              "5"
            ]
          },
          "metadata": {},
          "execution_count": 64
        }
      ]
    },
    {
      "cell_type": "code",
      "source": [
        "for i in nama_teman:\n",
        "  print(i)"
      ],
      "metadata": {
        "colab": {
          "base_uri": "https://localhost:8080/"
        },
        "id": "rlrtHP5NpsWw",
        "outputId": "c011f8bc-81e4-4b84-9090-f86f4919e846"
      },
      "execution_count": 65,
      "outputs": [
        {
          "output_type": "stream",
          "name": "stdout",
          "text": [
            "Amir\n",
            "Beni\n",
            "Cinta\n",
            "Dimas\n",
            "Edi\n"
          ]
        }
      ]
    },
    {
      "cell_type": "code",
      "source": [
        "print(i)"
      ],
      "metadata": {
        "colab": {
          "base_uri": "https://localhost:8080/"
        },
        "id": "dSjVCQNEqH_d",
        "outputId": "df987d01-1132-4b72-83ee-3924518cb258"
      },
      "execution_count": 66,
      "outputs": [
        {
          "output_type": "stream",
          "name": "stdout",
          "text": [
            "Edi\n"
          ]
        }
      ]
    },
    {
      "cell_type": "code",
      "source": [
        "# menampilkan angka urutan\n",
        "for i in range(len(nama_teman)):\n",
        "  print(f\"{i+1}. {nama_teman[i]}\")"
      ],
      "metadata": {
        "colab": {
          "base_uri": "https://localhost:8080/"
        },
        "id": "Y7wwmS_iqs03",
        "outputId": "85564528-2c05-4ef7-d5c2-380540fe03e7"
      },
      "execution_count": 67,
      "outputs": [
        {
          "output_type": "stream",
          "name": "stdout",
          "text": [
            "1. Amir\n",
            "2. Beni\n",
            "3. Cinta\n",
            "4. Dimas\n",
            "5. Edi\n"
          ]
        }
      ]
    },
    {
      "cell_type": "code",
      "source": [
        "# Menambahkan value baru pada akhir list\n",
        "\n",
        "nama_teman.append('Ferdi')\n",
        "print(nama_teman)"
      ],
      "metadata": {
        "colab": {
          "base_uri": "https://localhost:8080/"
        },
        "id": "Bhut-OTQhHAT",
        "outputId": "4fa40b6d-9ce9-4656-cc65-ff080e6ff887"
      },
      "execution_count": 68,
      "outputs": [
        {
          "output_type": "stream",
          "name": "stdout",
          "text": [
            "['Amir', 'Beni', 'Cinta', 'Dimas', 'Edi', 'Ferdi']\n"
          ]
        }
      ]
    },
    {
      "cell_type": "code",
      "source": [
        "# Menghitung banyaknya kemunculan value\n",
        "\n",
        "nama_teman.count('Beni')"
      ],
      "metadata": {
        "colab": {
          "base_uri": "https://localhost:8080/"
        },
        "id": "tc6DZ73OkGla",
        "outputId": "a6c45d96-51f1-4e88-c6da-6c6ebc54c733"
      },
      "execution_count": 69,
      "outputs": [
        {
          "output_type": "execute_result",
          "data": {
            "text/plain": [
              "1"
            ]
          },
          "metadata": {},
          "execution_count": 69
        }
      ]
    },
    {
      "cell_type": "code",
      "source": [
        "# Menampilkan index dari value\n",
        "# jika value memiliki duplikat maka index yang ditampilkan adalah index terkecil\n",
        "\n",
        "nama_teman.index('Dimas')"
      ],
      "metadata": {
        "colab": {
          "base_uri": "https://localhost:8080/"
        },
        "id": "gC9tnRsJkbh9",
        "outputId": "b058090d-aef2-4ec9-bbe0-2bed9ce1e0bc"
      },
      "execution_count": 70,
      "outputs": [
        {
          "output_type": "execute_result",
          "data": {
            "text/plain": [
              "3"
            ]
          },
          "metadata": {},
          "execution_count": 70
        }
      ]
    },
    {
      "cell_type": "code",
      "source": [
        "# Menyisipkan value pada index tertentu\n",
        "\n",
        "nama_teman.insert(2, 'Canda')\n",
        "print(nama_teman)"
      ],
      "metadata": {
        "colab": {
          "base_uri": "https://localhost:8080/"
        },
        "id": "VAvBlTqGk6iT",
        "outputId": "caea1213-ca9c-470f-87d2-cc6d5b7e381f"
      },
      "execution_count": 71,
      "outputs": [
        {
          "output_type": "stream",
          "name": "stdout",
          "text": [
            "['Amir', 'Beni', 'Canda', 'Cinta', 'Dimas', 'Edi', 'Ferdi']\n"
          ]
        }
      ]
    },
    {
      "cell_type": "code",
      "source": [
        "# Menghapus value pada index tertentu\n",
        "# jika pop() akan menghapus data terakhir\n",
        "\n",
        "nama_teman.pop(2)\n",
        "print(nama_teman)"
      ],
      "metadata": {
        "colab": {
          "base_uri": "https://localhost:8080/"
        },
        "id": "wBUDNtMHmKOK",
        "outputId": "2eff72cd-3a4b-4244-8682-f48f3918444b"
      },
      "execution_count": 72,
      "outputs": [
        {
          "output_type": "stream",
          "name": "stdout",
          "text": [
            "['Amir', 'Beni', 'Cinta', 'Dimas', 'Edi', 'Ferdi']\n"
          ]
        }
      ]
    },
    {
      "cell_type": "code",
      "source": [
        "# Menghapus value tertentu\n",
        "# Jika terdapat value duplikat maka yang dihapus adalah value yang muncul pertama kali\n",
        "\n",
        "nama_teman.remove('Cinta')\n",
        "print(nama_teman)"
      ],
      "metadata": {
        "colab": {
          "base_uri": "https://localhost:8080/"
        },
        "id": "7rtOiNMJmzqe",
        "outputId": "f6dac372-c627-492b-ea8c-1d58432a22fd"
      },
      "execution_count": 73,
      "outputs": [
        {
          "output_type": "stream",
          "name": "stdout",
          "text": [
            "['Amir', 'Beni', 'Dimas', 'Edi', 'Ferdi']\n"
          ]
        }
      ]
    },
    {
      "cell_type": "code",
      "source": [
        "# Mengurutkan value pada list\n",
        "\n",
        "# Ascending/menaik\n",
        "nama_teman.sort()\n",
        "print('Menaik')\n",
        "print(nama_teman)\n",
        "print('\\n')\n",
        "print('Menurun')\n",
        "nama_teman.sort(reverse=True)\n",
        "print(nama_teman)"
      ],
      "metadata": {
        "colab": {
          "base_uri": "https://localhost:8080/"
        },
        "id": "9AjnYrC8nWRe",
        "outputId": "9069ce0b-11d5-4754-fc7f-92d17fb7f19f"
      },
      "execution_count": 74,
      "outputs": [
        {
          "output_type": "stream",
          "name": "stdout",
          "text": [
            "Menaik\n",
            "['Amir', 'Beni', 'Dimas', 'Edi', 'Ferdi']\n",
            "\n",
            "\n",
            "Menurun\n",
            "['Ferdi', 'Edi', 'Dimas', 'Beni', 'Amir']\n"
          ]
        }
      ]
    },
    {
      "cell_type": "code",
      "source": [
        "# Membalikkan list\n",
        "\n",
        "nama_teman.reverse()\n",
        "print(nama_teman)"
      ],
      "metadata": {
        "colab": {
          "base_uri": "https://localhost:8080/"
        },
        "id": "vyVqUO5vnwyU",
        "outputId": "a24d0033-06fb-4490-cf3f-fc1307b616bd"
      },
      "execution_count": 75,
      "outputs": [
        {
          "output_type": "stream",
          "name": "stdout",
          "text": [
            "['Amir', 'Beni', 'Dimas', 'Edi', 'Ferdi']\n"
          ]
        }
      ]
    },
    {
      "cell_type": "code",
      "source": [
        "# Mengcopy list\n",
        "# membuat var baru\n",
        "teman_baru = nama_teman.copy()\n",
        "\n",
        "teman_baru"
      ],
      "metadata": {
        "colab": {
          "base_uri": "https://localhost:8080/"
        },
        "id": "vN7_O9egpw5e",
        "outputId": "e00f186c-0ce6-41ad-da9f-a817fdd52899"
      },
      "execution_count": 76,
      "outputs": [
        {
          "output_type": "execute_result",
          "data": {
            "text/plain": [
              "['Amir', 'Beni', 'Dimas', 'Edi', 'Ferdi']"
            ]
          },
          "metadata": {},
          "execution_count": 76
        }
      ]
    },
    {
      "cell_type": "code",
      "source": [
        "# Mengosongkan nama_teman\n",
        "\n",
        "nama_teman.clear()\n",
        "print(nama_teman)"
      ],
      "metadata": {
        "colab": {
          "base_uri": "https://localhost:8080/"
        },
        "id": "BmZ1HqighMV1",
        "outputId": "aa19ab9f-67cd-4340-c22b-eebe91f32f7b"
      },
      "execution_count": 77,
      "outputs": [
        {
          "output_type": "stream",
          "name": "stdout",
          "text": [
            "[]\n"
          ]
        }
      ]
    },
    {
      "cell_type": "code",
      "source": [
        "# nama teman sekarang menjadi kosong\n",
        "\n",
        "nama_teman"
      ],
      "metadata": {
        "colab": {
          "base_uri": "https://localhost:8080/"
        },
        "id": "ytq2s8dGj_TJ",
        "outputId": "b56d1c8b-787a-4f38-97b5-1fe074732f2b"
      },
      "execution_count": null,
      "outputs": [
        {
          "output_type": "execute_result",
          "data": {
            "text/plain": [
              "[]"
            ]
          },
          "metadata": {},
          "execution_count": 18
        }
      ]
    },
    {
      "cell_type": "markdown",
      "source": [
        "# Tuple"
      ],
      "metadata": {
        "id": "FV_-gQW2rIiT"
      }
    },
    {
      "cell_type": "markdown",
      "source": [
        "mirip dg list tapi tidak bisa dimanupulasi/diubah (konstan)"
      ],
      "metadata": {
        "id": "VU5kGrOfXSJ7"
      }
    },
    {
      "cell_type": "code",
      "source": [
        "# Mendefinisikan tuple dengan tanda kurung\n",
        "\n",
        "bil_tuple = (10,20,30,40,50)"
      ],
      "metadata": {
        "id": "-Qv2yHdnwCNj"
      },
      "execution_count": null,
      "outputs": []
    },
    {
      "cell_type": "code",
      "source": [
        "# Menampilkan panjang tuple\n",
        "\n",
        "len(bil_tuple)"
      ],
      "metadata": {
        "colab": {
          "base_uri": "https://localhost:8080/"
        },
        "id": "7kOdOIElwOrD",
        "outputId": "2a7eab60-a20e-4e8e-fbd3-f0c758c09582"
      },
      "execution_count": null,
      "outputs": [
        {
          "output_type": "execute_result",
          "data": {
            "text/plain": [
              "5"
            ]
          },
          "metadata": {},
          "execution_count": 20
        }
      ]
    },
    {
      "cell_type": "code",
      "source": [
        "# Menampilkan kemunculan bilangan 10 pada tuple\n",
        "\n",
        "bil_tuple.count(10)"
      ],
      "metadata": {
        "colab": {
          "base_uri": "https://localhost:8080/"
        },
        "id": "z0JRHxQVwQvv",
        "outputId": "946d0120-447b-44fc-e71b-eff5abff2463"
      },
      "execution_count": null,
      "outputs": [
        {
          "output_type": "execute_result",
          "data": {
            "text/plain": [
              "1"
            ]
          },
          "metadata": {},
          "execution_count": 21
        }
      ]
    },
    {
      "cell_type": "code",
      "source": [
        "# menampilkan index dari value 30 pada tuple\n",
        "\n",
        "bil_tuple.index(30)"
      ],
      "metadata": {
        "colab": {
          "base_uri": "https://localhost:8080/"
        },
        "id": "KBqkEABRwT3u",
        "outputId": "8ab530c8-800c-4def-eede-bedf4817710c"
      },
      "execution_count": null,
      "outputs": [
        {
          "output_type": "execute_result",
          "data": {
            "text/plain": [
              "2"
            ]
          },
          "metadata": {},
          "execution_count": 22
        }
      ]
    },
    {
      "cell_type": "code",
      "source": [
        "# menampilkan value dengan index ke 3 pada tuple\n",
        "\n",
        "bil_tuple[3]"
      ],
      "metadata": {
        "colab": {
          "base_uri": "https://localhost:8080/"
        },
        "id": "lBixP0HLwF7T",
        "outputId": "cb0d61d2-2977-464d-cb00-666278f73316"
      },
      "execution_count": null,
      "outputs": [
        {
          "output_type": "execute_result",
          "data": {
            "text/plain": [
              "40"
            ]
          },
          "metadata": {},
          "execution_count": 23
        }
      ]
    },
    {
      "cell_type": "code",
      "source": [
        "# slicing pada tuple\n",
        "\n",
        "bil_tuple[::2]"
      ],
      "metadata": {
        "colab": {
          "base_uri": "https://localhost:8080/"
        },
        "id": "9AU1z6_rwJbG",
        "outputId": "0f346113-05c7-44dd-f374-737c31ce64a0"
      },
      "execution_count": null,
      "outputs": [
        {
          "output_type": "execute_result",
          "data": {
            "text/plain": [
              "(10, 30, 50)"
            ]
          },
          "metadata": {},
          "execution_count": 24
        }
      ]
    },
    {
      "cell_type": "code",
      "source": [
        "# Membuat tuple dari list\n",
        "\n",
        "bil_list = [50, 70, 90, 30, 20, 10, 60, 70, 30, 50]\n",
        "\n",
        "bil = tuple(bil_list)\n",
        "print(bil)"
      ],
      "metadata": {
        "colab": {
          "base_uri": "https://localhost:8080/"
        },
        "id": "-JW5IZVDwMNY",
        "outputId": "84f65db4-7814-473d-f41b-8ace51bf0fc0"
      },
      "execution_count": null,
      "outputs": [
        {
          "output_type": "stream",
          "name": "stdout",
          "text": [
            "(50, 70, 90, 30, 20, 10, 60, 70, 30, 50)\n"
          ]
        }
      ]
    },
    {
      "cell_type": "markdown",
      "source": [
        "# Set (himpunan)"
      ],
      "metadata": {
        "id": "jaqzhRxwrLh1"
      }
    },
    {
      "cell_type": "markdown",
      "source": [
        "- tidak mengenal urutan(indeks)\n",
        "- elemen tidak memuat duplikat\n",
        "- {} tidak mengenal key, jadi langsung values"
      ],
      "metadata": {
        "id": "CqPs-r2yZjUL"
      }
    },
    {
      "cell_type": "code",
      "source": [
        "# Mendefinisikan set bernama buah\n",
        "\n",
        "buah = {'apel','jeruk','mangga','melon','semangka','anggur'}"
      ],
      "metadata": {
        "id": "wgnrjwk_A4rN"
      },
      "execution_count": null,
      "outputs": []
    },
    {
      "cell_type": "code",
      "source": [
        "# menampilkan ukuran himpunan\n",
        "\n",
        "len(buah)"
      ],
      "metadata": {
        "colab": {
          "base_uri": "https://localhost:8080/"
        },
        "id": "tN4Y8B-xCdhN",
        "outputId": "46aab1b7-3841-411f-d391-51c242bef8b7"
      },
      "execution_count": null,
      "outputs": [
        {
          "output_type": "execute_result",
          "data": {
            "text/plain": [
              "6"
            ]
          },
          "metadata": {},
          "execution_count": 27
        }
      ]
    },
    {
      "cell_type": "code",
      "source": [
        "# menambahkan anggota himpunan (1)\n",
        "\n",
        "buah.add('pepaya')\n",
        "\n",
        "print(buah)"
      ],
      "metadata": {
        "colab": {
          "base_uri": "https://localhost:8080/"
        },
        "id": "1avBu_oLChMl",
        "outputId": "17de9d76-1326-4473-f166-dbe0e1260524"
      },
      "execution_count": null,
      "outputs": [
        {
          "output_type": "stream",
          "name": "stdout",
          "text": [
            "{'mangga', 'apel', 'anggur', 'melon', 'jeruk', 'pepaya', 'semangka'}\n"
          ]
        }
      ]
    },
    {
      "cell_type": "code",
      "source": [
        "# menambahkan himpunan ke himpunan (lebih dari 1)\n",
        "\n",
        "buah.update({'pisang','jambu'})\n",
        "\n",
        "print(buah)"
      ],
      "metadata": {
        "colab": {
          "base_uri": "https://localhost:8080/"
        },
        "id": "R9CmV3mCCm2j",
        "outputId": "54fc3d6f-a68e-4f97-ce72-6bf729aa4836"
      },
      "execution_count": null,
      "outputs": [
        {
          "output_type": "stream",
          "name": "stdout",
          "text": [
            "{'mangga', 'apel', 'jambu', 'jeruk', 'pisang', 'anggur', 'melon', 'semangka', 'pepaya'}\n"
          ]
        }
      ]
    },
    {
      "cell_type": "code",
      "source": [
        "# Menghapus 'pisang' dari himpunan\n",
        "\n",
        "buah.remove('pisang')\n",
        "\n",
        "print(buah)"
      ],
      "metadata": {
        "colab": {
          "base_uri": "https://localhost:8080/"
        },
        "id": "BbEohvJVCt6h",
        "outputId": "661c9fcf-4c93-409f-c098-66e164d926f0"
      },
      "execution_count": null,
      "outputs": [
        {
          "output_type": "stream",
          "name": "stdout",
          "text": [
            "{'mangga', 'apel', 'jambu', 'jeruk', 'anggur', 'melon', 'semangka', 'pepaya'}\n"
          ]
        }
      ]
    },
    {
      "cell_type": "code",
      "source": [
        "# akan menghasilkan error karena sirsak tidak ada di dalam himpunan\n",
        "buah.remove('sirsak')"
      ],
      "metadata": {
        "colab": {
          "base_uri": "https://localhost:8080/",
          "height": 184
        },
        "id": "fY40xiHiC2f3",
        "outputId": "7fe0071f-b80e-4377-a4e4-3f628502f839"
      },
      "execution_count": null,
      "outputs": [
        {
          "output_type": "error",
          "ename": "KeyError",
          "evalue": "ignored",
          "traceback": [
            "\u001b[0;31m---------------------------------------------------------------------------\u001b[0m",
            "\u001b[0;31mKeyError\u001b[0m                                  Traceback (most recent call last)",
            "\u001b[0;32m<ipython-input-31-5d3b313bc4eb>\u001b[0m in \u001b[0;36m<cell line: 2>\u001b[0;34m()\u001b[0m\n\u001b[1;32m      1\u001b[0m \u001b[0;31m# akan menghasilkan error karena sirsak tidak ada di dalam himpunan\u001b[0m\u001b[0;34m\u001b[0m\u001b[0;34m\u001b[0m\u001b[0m\n\u001b[0;32m----> 2\u001b[0;31m \u001b[0mbuah\u001b[0m\u001b[0;34m.\u001b[0m\u001b[0mremove\u001b[0m\u001b[0;34m(\u001b[0m\u001b[0;34m'sirsak'\u001b[0m\u001b[0;34m)\u001b[0m\u001b[0;34m\u001b[0m\u001b[0;34m\u001b[0m\u001b[0m\n\u001b[0m",
            "\u001b[0;31mKeyError\u001b[0m: 'sirsak'"
          ]
        }
      ]
    },
    {
      "cell_type": "code",
      "source": [
        "# menghapus 'pepaya' dari himpunan\n",
        "\n",
        "buah.discard('pepaya')\n",
        "\n",
        "print(buah)"
      ],
      "metadata": {
        "colab": {
          "base_uri": "https://localhost:8080/"
        },
        "id": "2Rhif0mLCyWQ",
        "outputId": "085698f2-b05b-4568-8aee-9375cd243a56"
      },
      "execution_count": null,
      "outputs": [
        {
          "output_type": "stream",
          "name": "stdout",
          "text": [
            "{'mangga', 'apel', 'jambu', 'jeruk', 'anggur', 'melon', 'semangka'}\n"
          ]
        }
      ]
    },
    {
      "cell_type": "code",
      "source": [
        "# menguji apakah terdapat 'durian' pada himpunan buah\n",
        "\n",
        "'durian' in buah"
      ],
      "metadata": {
        "colab": {
          "base_uri": "https://localhost:8080/"
        },
        "id": "0eCkbeEsBFi3",
        "outputId": "af7ded33-5579-491f-ba6a-8a67221e8a55"
      },
      "execution_count": null,
      "outputs": [
        {
          "output_type": "execute_result",
          "data": {
            "text/plain": [
              "False"
            ]
          },
          "metadata": {},
          "execution_count": 33
        }
      ]
    },
    {
      "cell_type": "code",
      "source": [
        "# menampilkan semua anggota buah kecuali anggur, sirsak, dan melon\n",
        "\n",
        "buah.difference({'anggur','sirsak','melon'})"
      ],
      "metadata": {
        "colab": {
          "base_uri": "https://localhost:8080/"
        },
        "id": "ugqbj_qDC_gL",
        "outputId": "8f849643-99d2-411d-e40e-8bef0e3b086e"
      },
      "execution_count": null,
      "outputs": [
        {
          "output_type": "execute_result",
          "data": {
            "text/plain": [
              "{'apel', 'jambu', 'jeruk', 'mangga', 'semangka'}"
            ]
          },
          "metadata": {},
          "execution_count": 34
        }
      ]
    },
    {
      "cell_type": "code",
      "source": [
        "# menampilkan irisan himpunan\n",
        "\n",
        "buah.intersection({'anggur','sirsak','melon'})"
      ],
      "metadata": {
        "colab": {
          "base_uri": "https://localhost:8080/"
        },
        "id": "dJ1lYuGHDI3G",
        "outputId": "c3513db5-92cd-4bd5-942c-e493c573da7a"
      },
      "execution_count": null,
      "outputs": [
        {
          "output_type": "execute_result",
          "data": {
            "text/plain": [
              "{'anggur', 'melon'}"
            ]
          },
          "metadata": {},
          "execution_count": 35
        }
      ]
    },
    {
      "cell_type": "code",
      "source": [
        "# menampilkan gabungan himpunan\n",
        "\n",
        "buah.union({'anggur','sirsak','melon'})"
      ],
      "metadata": {
        "colab": {
          "base_uri": "https://localhost:8080/"
        },
        "id": "l8ALKKIfDTLH",
        "outputId": "17da53bf-93ff-4781-fa4d-a08fa973074e"
      },
      "execution_count": null,
      "outputs": [
        {
          "output_type": "execute_result",
          "data": {
            "text/plain": [
              "{'anggur', 'apel', 'jambu', 'jeruk', 'mangga', 'melon', 'semangka', 'sirsak'}"
            ]
          },
          "metadata": {},
          "execution_count": 36
        }
      ]
    },
    {
      "cell_type": "markdown",
      "source": [
        "# Dictionary"
      ],
      "metadata": {
        "id": "TXlh9tERrM-H"
      }
    },
    {
      "cell_type": "code",
      "source": [
        "# Mendefinisikan dictionary\n",
        "\n",
        "pegawai = {\n",
        "\t'Nama'\t: 'Dicky',\n",
        "\t'Usia'\t\t: 30,\n",
        "\t'Role'\t\t: 'Data Analyst',\n",
        "\t'Dept'\t\t: 'Marketing'\n",
        "}"
      ],
      "metadata": {
        "id": "YIXprrdEkAkX"
      },
      "execution_count": null,
      "outputs": []
    },
    {
      "cell_type": "code",
      "source": [
        "# Memanggil value dari dictionary\n",
        "\n",
        "pegawai['Nama']"
      ],
      "metadata": {
        "colab": {
          "base_uri": "https://localhost:8080/",
          "height": 35
        },
        "id": "Li8_-BDEs7WW",
        "outputId": "de20836d-bf9f-42a8-f6d3-c903fe88d20b"
      },
      "execution_count": null,
      "outputs": [
        {
          "output_type": "execute_result",
          "data": {
            "text/plain": [
              "'Dicky'"
            ],
            "application/vnd.google.colaboratory.intrinsic+json": {
              "type": "string"
            }
          },
          "metadata": {},
          "execution_count": 38
        }
      ]
    },
    {
      "cell_type": "code",
      "source": [
        "# Mengganti nilai pada dictionary\n",
        "\n",
        "pegawai['Nama'] = 'Ricky'\n",
        "\n",
        "print(pegawai)"
      ],
      "metadata": {
        "colab": {
          "base_uri": "https://localhost:8080/"
        },
        "id": "6iyvfORls9z0",
        "outputId": "1c38ab31-4881-4033-82e3-418f9e6948a1"
      },
      "execution_count": null,
      "outputs": [
        {
          "output_type": "stream",
          "name": "stdout",
          "text": [
            "{'Nama': 'Ricky', 'Usia': 30, 'Role': 'Data Analyst', 'Dept': 'Marketing'}\n"
          ]
        }
      ]
    },
    {
      "cell_type": "code",
      "source": [
        "# Menambahkan key baru beserta valuenya\n",
        "\n",
        "pegawai['Gaji'] = 10000000\n",
        "\n",
        "print(pegawai)"
      ],
      "metadata": {
        "colab": {
          "base_uri": "https://localhost:8080/"
        },
        "id": "btXvZzcctAe_",
        "outputId": "3b0c1c48-fe9a-4153-bbe0-18575dcc5710"
      },
      "execution_count": null,
      "outputs": [
        {
          "output_type": "stream",
          "name": "stdout",
          "text": [
            "{'Nama': 'Ricky', 'Usia': 30, 'Role': 'Data Analyst', 'Dept': 'Marketing', 'Gaji': 10000000}\n"
          ]
        }
      ]
    },
    {
      "cell_type": "code",
      "source": [
        "# Menghapus key beserta valuenya\n",
        "\n",
        "del pegawai['Gaji']\n",
        "\n",
        "print(pegawai)"
      ],
      "metadata": {
        "colab": {
          "base_uri": "https://localhost:8080/"
        },
        "id": "j_7U3L22tBTR",
        "outputId": "1ac2764a-6390-42b2-fdb2-a425a57bec5a"
      },
      "execution_count": null,
      "outputs": [
        {
          "output_type": "stream",
          "name": "stdout",
          "text": [
            "{'Nama': 'Ricky', 'Usia': 30, 'Role': 'Data Analyst', 'Dept': 'Marketing'}\n"
          ]
        }
      ]
    },
    {
      "cell_type": "code",
      "source": [
        "# Menampilkan daftar key dari dictionary\n",
        "\n",
        "pegawai.keys()"
      ],
      "metadata": {
        "colab": {
          "base_uri": "https://localhost:8080/"
        },
        "id": "onRJzBXktK64",
        "outputId": "5c0a3f1e-3fb5-4880-ee5e-2aae3ad72059"
      },
      "execution_count": null,
      "outputs": [
        {
          "output_type": "execute_result",
          "data": {
            "text/plain": [
              "dict_keys(['Nama', 'Usia', 'Role', 'Dept'])"
            ]
          },
          "metadata": {},
          "execution_count": 42
        }
      ]
    },
    {
      "cell_type": "code",
      "source": [
        "# Menampilkan daftar values\n",
        "\n",
        "pegawai.values()"
      ],
      "metadata": {
        "colab": {
          "base_uri": "https://localhost:8080/"
        },
        "id": "YCIxOTZMuLPk",
        "outputId": "cd05a3c1-2290-4e3d-f52f-c604f0036116"
      },
      "execution_count": null,
      "outputs": [
        {
          "output_type": "execute_result",
          "data": {
            "text/plain": [
              "dict_values(['Ricky', 30, 'Data Analyst', 'Marketing'])"
            ]
          },
          "metadata": {},
          "execution_count": 43
        }
      ]
    },
    {
      "cell_type": "code",
      "source": [
        "# Menampilkan pasangan key value dalam bentuk list of tuples\n",
        "\n",
        "pegawai.items()"
      ],
      "metadata": {
        "colab": {
          "base_uri": "https://localhost:8080/"
        },
        "id": "7wvf6JiuuMep",
        "outputId": "507acda1-7f0b-42d7-ad42-734e1b583c08"
      },
      "execution_count": null,
      "outputs": [
        {
          "output_type": "execute_result",
          "data": {
            "text/plain": [
              "dict_items([('Nama', 'Ricky'), ('Usia', 30), ('Role', 'Data Analyst'), ('Dept', 'Marketing')])"
            ]
          },
          "metadata": {},
          "execution_count": 44
        }
      ]
    },
    {
      "cell_type": "code",
      "source": [
        "# menyalin dictionary\n",
        "\n",
        "copy_of_pegawai = pegawai.copy()"
      ],
      "metadata": {
        "id": "-_fzyG_XuNoa"
      },
      "execution_count": null,
      "outputs": []
    },
    {
      "cell_type": "code",
      "source": [
        "copy_of_pegawai"
      ],
      "metadata": {
        "colab": {
          "base_uri": "https://localhost:8080/"
        },
        "id": "VvYvLX9QOdT3",
        "outputId": "f2bb23fa-7fa1-413b-d9e3-8571de5f2a84"
      },
      "execution_count": null,
      "outputs": [
        {
          "output_type": "execute_result",
          "data": {
            "text/plain": [
              "{'Nama': 'Ricky', 'Usia': 30, 'Role': 'Data Analyst', 'Dept': 'Marketing'}"
            ]
          },
          "metadata": {},
          "execution_count": 47
        }
      ]
    },
    {
      "cell_type": "code",
      "source": [
        "# menghapus seluruh isi dictionary\n",
        "\n",
        "copy_of_pegawai.clear()"
      ],
      "metadata": {
        "id": "d0Ozu2fDOfOc"
      },
      "execution_count": null,
      "outputs": []
    },
    {
      "cell_type": "code",
      "source": [
        "copy_of_pegawai"
      ],
      "metadata": {
        "colab": {
          "base_uri": "https://localhost:8080/"
        },
        "id": "-R91FVzoOh03",
        "outputId": "87518451-1446-4aeb-f851-6ca123f03f9a"
      },
      "execution_count": null,
      "outputs": [
        {
          "output_type": "execute_result",
          "data": {
            "text/plain": [
              "{}"
            ]
          },
          "metadata": {},
          "execution_count": 49
        }
      ]
    },
    {
      "cell_type": "code",
      "source": [],
      "metadata": {
        "id": "VUuZLew8Oj2x"
      },
      "execution_count": null,
      "outputs": []
    }
  ]
}