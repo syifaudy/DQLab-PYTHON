{
  "nbformat": 4,
  "nbformat_minor": 0,
  "metadata": {
    "colab": {
      "provenance": [],
      "collapsed_sections": [
        "fv0Cs9bwVDF3"
      ]
    },
    "kernelspec": {
      "name": "python3",
      "display_name": "Python 3"
    },
    "language_info": {
      "name": "python"
    }
  },
  "cells": [
    {
      "cell_type": "markdown",
      "source": [
        "## Kondisi IF"
      ],
      "metadata": {
        "id": "Wol7kLjIc1Lu"
      }
    },
    {
      "cell_type": "code",
      "source": [
        "# kuis kemarin\n",
        "\n",
        "list_name = ['asep','amir','budi','cinta','edi','asep']\n",
        "\n",
        "asep = [] # list kosong biar dimasukkin valuenya nanti\n",
        "for getIndex, getName in enumerate(list_name): # [(0, asep) ...] list of tuple\n",
        "  if getName == 'asep':\n",
        "    asep.append(getIndex) # masukkin value baru\n",
        "print(asep)"
      ],
      "metadata": {
        "colab": {
          "base_uri": "https://localhost:8080/"
        },
        "id": "soYcA-q95nIo",
        "outputId": "d253ced4-656d-428f-a219-5cfe158ea8c1"
      },
      "execution_count": 15,
      "outputs": [
        {
          "output_type": "stream",
          "name": "stdout",
          "text": [
            "[0, 5]\n"
          ]
        }
      ]
    },
    {
      "cell_type": "markdown",
      "source": [
        "- [(0, asep) ...] list of tuple\n",
        "- setiap indeks(kamar) dimasukin satu satu bed nya"
      ],
      "metadata": {
        "id": "iG9L3v9REa_I"
      }
    },
    {
      "cell_type": "code",
      "source": [
        "list_name = ['asep','amir','budi','cinta','edi','asep']\n",
        "asep = []\n",
        "i = 0\n",
        "for name in list_name:\n",
        "  if name == 'asep':\n",
        "    asep.append(i) # 0 nya dimasukkin dlu ke list, trs looping\n",
        "  i += 1 # i= i+1 kalau true\n",
        "print(asep)"
      ],
      "metadata": {
        "colab": {
          "base_uri": "https://localhost:8080/"
        },
        "id": "eH7i6-TWKb7v",
        "outputId": "2b75556d-de57-42f3-b4ae-d3da687ab34f"
      },
      "execution_count": 16,
      "outputs": [
        {
          "output_type": "stream",
          "name": "stdout",
          "text": [
            "[0, 5]\n"
          ]
        }
      ]
    },
    {
      "cell_type": "code",
      "source": [
        "# list comprehension\n",
        "# cocok jika tidak terlalu complicated\n",
        "\n",
        "asep = [getIndex for getIndex, getName in enumerate(list_name) if getName == 'asep']\n",
        "print(asep)"
      ],
      "metadata": {
        "colab": {
          "base_uri": "https://localhost:8080/"
        },
        "id": "G27XYpZ9Eirf",
        "outputId": "78b65e45-db08-48c2-862f-d0c331ee3577"
      },
      "execution_count": 17,
      "outputs": [
        {
          "output_type": "stream",
          "name": "stdout",
          "text": [
            "[0, 5]\n"
          ]
        }
      ]
    },
    {
      "cell_type": "code",
      "source": [
        "bil = [2,4,3,6,7,9]\n",
        "bil_baru = []\n",
        "\n",
        "# logic\n",
        "  # jika bil genap: tambah 1\n",
        "  # jika bil ganjil: tambah 2\n",
        "  # hasil penjumlahan masukkan ke list yang baru\n"
      ],
      "metadata": {
        "id": "oq5Z744NH5DH"
      },
      "execution_count": null,
      "outputs": []
    },
    {
      "cell_type": "code",
      "source": [
        "bil = [2, 4, 3, 6, 7, 9]\n",
        "bil_baru = []\n",
        "\n",
        "for angka in bil:\n",
        "    if angka % 2 == 0:\n",
        "        bil_baru.append(angka + 1)  # Tambah 1 untuk bilangan genap\n",
        "    else:\n",
        "        bil_baru.append(angka + 2)  # Tambah 2 untuk bilangan ganjil\n",
        "\n",
        "print(bil_baru)"
      ],
      "metadata": {
        "colab": {
          "base_uri": "https://localhost:8080/"
        },
        "id": "kKIGkaB6IZ4i",
        "outputId": "1fd0f73b-58c6-4d70-bdd0-291acfda71cd"
      },
      "execution_count": 18,
      "outputs": [
        {
          "output_type": "stream",
          "name": "stdout",
          "text": [
            "[3, 5, 5, 7, 9, 11]\n"
          ]
        }
      ]
    },
    {
      "cell_type": "code",
      "source": [
        "z = 3 # Global Variable\n",
        "def f(x):\n",
        "  y = 1 # Local Variable\n",
        "  return(x + z + 1)\n",
        "f(1)"
      ],
      "metadata": {
        "colab": {
          "base_uri": "https://localhost:8080/"
        },
        "id": "heGl6zBZUN6r",
        "outputId": "9be27efc-a935-44fd-94fd-0033fbe1d277"
      },
      "execution_count": 3,
      "outputs": [
        {
          "output_type": "execute_result",
          "data": {
            "text/plain": [
              "5"
            ]
          },
          "metadata": {},
          "execution_count": 3
        }
      ]
    },
    {
      "cell_type": "code",
      "source": [
        "bil = [2, 4, 3, 6, 7, 9]\n",
        "\n",
        "def ganjil_genap(angka): # function = ganjil genap, value = angka\n",
        "  bil_baru = []\n",
        "\n",
        "  for i in angka:\n",
        "    if i % 2 == 0:\n",
        "       bil_baru.append(i+1)\n",
        "    else:\n",
        "      bil_baru.append(i+2)\n",
        "\n",
        "  return bil_baru # ujung dari function\n",
        "\n",
        "print(ganjil_genap(bil)) # si angka diisi dg bil"
      ],
      "metadata": {
        "colab": {
          "base_uri": "https://localhost:8080/"
        },
        "id": "vJOpQ_qfRj9u",
        "outputId": "eb9fd832-9b80-4e3c-a36a-c92ca57eb324"
      },
      "execution_count": 1,
      "outputs": [
        {
          "output_type": "stream",
          "name": "stdout",
          "text": [
            "[3, 5, 5, 7, 9, 11]\n"
          ]
        }
      ]
    },
    {
      "cell_type": "markdown",
      "source": [
        "- global var: variabel yg terletak diluar function (yg dikenali untuk print)\n",
        "- lokal var: variabel yg terletak di dlm function"
      ],
      "metadata": {
        "id": "fv0Cs9bwVDF3"
      }
    },
    {
      "cell_type": "code",
      "source": [
        "# looping tanpa menggunakan function for loop\n",
        "# dengan map\n",
        "\n",
        "bil = [2, 4, 3, 6, 7, 9]\n",
        "def ganjil_genap(i):\n",
        "  if i % 2 == 0:\n",
        "    return i+1\n",
        "  else:\n",
        "    return i+2\n",
        "\n",
        "bil_baru = list(map(ganjil_genap,bil)) # bil dimasukkin ke i\n",
        "print(bil_baru)"
      ],
      "metadata": {
        "colab": {
          "base_uri": "https://localhost:8080/"
        },
        "id": "PtbIrckUaKtG",
        "outputId": "9406e2f9-1a5b-4e90-95c7-4b48a9464081"
      },
      "execution_count": 5,
      "outputs": [
        {
          "output_type": "stream",
          "name": "stdout",
          "text": [
            "[3, 5, 5, 7, 9, 11]\n"
          ]
        }
      ]
    },
    {
      "cell_type": "code",
      "source": [
        "# continue\n",
        "\n",
        "for i in range(10):\n",
        "  if i % 2 == 0:\n",
        "    continue # continue ke selanjutnya\n",
        "else:\n",
        "  print(i) # notes harusnya jawabannya bil ganjil 1,3,5,7,9"
      ],
      "metadata": {
        "colab": {
          "base_uri": "https://localhost:8080/"
        },
        "id": "jySiSfgGdaC9",
        "outputId": "08cf412b-f75b-4ad8-d07e-557c4d3853f5"
      },
      "execution_count": 17,
      "outputs": [
        {
          "output_type": "stream",
          "name": "stdout",
          "text": [
            "9\n"
          ]
        }
      ]
    },
    {
      "cell_type": "code",
      "execution_count": 15,
      "metadata": {
        "id": "_1X9xQ9ocUQQ",
        "colab": {
          "base_uri": "https://localhost:8080/"
        },
        "outputId": "54466d56-5415-465a-cf4c-84f292e8985a"
      },
      "outputs": [
        {
          "output_type": "stream",
          "name": "stdout",
          "text": [
            "Minum\n"
          ]
        }
      ],
      "source": [
        "# Ganti nilai kebenaran dari varible lapar\n",
        "# Karena kondisi bernilai false maka \"Makan\" tidak ditampilkan\n",
        "\n",
        "lapar = False\n",
        "if lapar == True:\n",
        "  print(\"Makan\")\n",
        "else:\n",
        "  print(\"Minum\")"
      ]
    },
    {
      "cell_type": "markdown",
      "source": [
        "## Kondisi IF ELSE"
      ],
      "metadata": {
        "id": "N1IXlZkcis6r"
      }
    },
    {
      "cell_type": "code",
      "source": [
        "# Jika lapar bernilai True maka 'Makan' akan ditampilkan\n",
        "# Jika kondisi lapar tidak terpenuhi maka 'Terus belajar' akan ditampilkan\n",
        "\n",
        "lapar = False\n",
        "\n",
        "if lapar == True:\n",
        "  print(\"Makan\")\n",
        "else:\n",
        "  print(\"Terus belajar\")"
      ],
      "metadata": {
        "colab": {
          "base_uri": "https://localhost:8080/"
        },
        "id": "ENtnUT4acY_B",
        "outputId": "b3d26643-f8a1-4230-8b2c-0713356ae6e1"
      },
      "execution_count": 20,
      "outputs": [
        {
          "output_type": "stream",
          "name": "stdout",
          "text": [
            "Terus belajar\n"
          ]
        }
      ]
    },
    {
      "cell_type": "markdown",
      "source": [
        "## Kondisi IF ELIF ELSE"
      ],
      "metadata": {
        "id": "AWpWHOVHix3m"
      }
    },
    {
      "cell_type": "code",
      "source": [
        "# akan menampilkan action berdasarkan kondisi\n",
        "# jika tidak ada kondisi yang didaftarkan maka 'Terus belajar' akan ditampilkan\n",
        "11\n",
        "kondisi = 'capek'\n",
        "\n",
        "if kondisi == 'lapar' :\n",
        "  print(\"Makan\")\n",
        "elif kondisi == 'capek' :\n",
        "  print(\"Istirahat\")\n",
        "elif kondisi == 'ngantuk' :\n",
        "  print(\"Tidur\")\n",
        "else :\n",
        "  print(\"Terus belajar\")"
      ],
      "metadata": {
        "colab": {
          "base_uri": "https://localhost:8080/"
        },
        "id": "MyN3MIpegFZ-",
        "outputId": "b8a4886f-b5c5-4a03-9eab-671c91ce7812"
      },
      "execution_count": 21,
      "outputs": [
        {
          "output_type": "stream",
          "name": "stdout",
          "text": [
            "Istirahat\n"
          ]
        }
      ]
    },
    {
      "cell_type": "markdown",
      "source": [
        "## Fungsi"
      ],
      "metadata": {
        "id": "9rzPbPwhqJjn"
      }
    },
    {
      "cell_type": "code",
      "source": [
        "def tulis_hello():\n",
        "  print('Hello')"
      ],
      "metadata": {
        "id": "T0Hz5eG7jQrz"
      },
      "execution_count": 22,
      "outputs": []
    },
    {
      "cell_type": "code",
      "source": [
        "tulis_hello()"
      ],
      "metadata": {
        "colab": {
          "base_uri": "https://localhost:8080/"
        },
        "id": "x8V6-PWbqOhT",
        "outputId": "b728622e-8014-488b-8a67-c843a005a8c2"
      },
      "execution_count": 23,
      "outputs": [
        {
          "output_type": "stream",
          "name": "stdout",
          "text": [
            "Hello\n"
          ]
        }
      ]
    },
    {
      "cell_type": "code",
      "source": [
        "# membuat fungsi untuk menghitung luas persegi (panjang x lebar)\n",
        "# nilai hasil perhitungan dikembalikan sebagai nilai dari fungsi\n",
        "def luas_persegi(panjang, lebar):\n",
        "  return panjang*lebar"
      ],
      "metadata": {
        "id": "0KQxWpCYqU_2"
      },
      "execution_count": null,
      "outputs": []
    },
    {
      "cell_type": "code",
      "source": [
        "# L akan memiliki nilai karena fungsi luas_persegi mengembalikan nilai\n",
        "L = luas_persegi(10,50)\n",
        "print(L)"
      ],
      "metadata": {
        "colab": {
          "base_uri": "https://localhost:8080/"
        },
        "id": "JiDAVpmrq9i9",
        "outputId": "66e3910a-18fb-4df9-861f-a862f8319416"
      },
      "execution_count": null,
      "outputs": [
        {
          "output_type": "stream",
          "name": "stdout",
          "text": [
            "500\n"
          ]
        }
      ]
    },
    {
      "cell_type": "code",
      "source": [
        "# fungsi ini hanya menampilkan hasil perkalian panjang dengan lebar\n",
        "# fungsi ini tidak mengembalikan nilai\n",
        "def luas_persegi(panjang, lebar):\n",
        "  print(panjang*lebar)"
      ],
      "metadata": {
        "id": "veqSF0heP-1S"
      },
      "execution_count": null,
      "outputs": []
    },
    {
      "cell_type": "code",
      "source": [
        "luas_persegi(3,4)"
      ],
      "metadata": {
        "colab": {
          "base_uri": "https://localhost:8080/"
        },
        "id": "hx6xfONFQDea",
        "outputId": "b77d0806-156d-467d-cd5a-fa181d732820"
      },
      "execution_count": null,
      "outputs": [
        {
          "output_type": "stream",
          "name": "stdout",
          "text": [
            "12\n"
          ]
        }
      ]
    },
    {
      "cell_type": "code",
      "source": [
        "L = luas_persegi(3,4)"
      ],
      "metadata": {
        "colab": {
          "base_uri": "https://localhost:8080/"
        },
        "id": "aInzO6sDQGCd",
        "outputId": "db63bbd5-1855-42d3-d7a9-77d6fe830b24"
      },
      "execution_count": null,
      "outputs": [
        {
          "output_type": "stream",
          "name": "stdout",
          "text": [
            "12\n",
            "None\n"
          ]
        }
      ]
    },
    {
      "cell_type": "code",
      "source": [
        "# L bernilai None atau tidak memiliki nilai karena L diperoleh dari fungsi yang tidak mengembalikan nilai\n",
        "print(L)"
      ],
      "metadata": {
        "colab": {
          "base_uri": "https://localhost:8080/"
        },
        "id": "Oeb_B-kpQNsC",
        "outputId": "6203fee2-8c2c-4816-9546-3f41c0cd347b"
      },
      "execution_count": null,
      "outputs": [
        {
          "output_type": "stream",
          "name": "stdout",
          "text": [
            "None\n"
          ]
        }
      ]
    },
    {
      "cell_type": "markdown",
      "source": [
        "## Loop"
      ],
      "metadata": {
        "id": "nyOVq2eByGB8"
      }
    },
    {
      "cell_type": "markdown",
      "source": [
        "### For loop"
      ],
      "metadata": {
        "id": "edsY4jlpyIm8"
      }
    },
    {
      "cell_type": "code",
      "source": [
        "# iterasi menggunakan list\n",
        "for buah in ['apel','mangga','anggur']:\n",
        "  print(buah)"
      ],
      "metadata": {
        "colab": {
          "base_uri": "https://localhost:8080/"
        },
        "id": "GcuQOz_MrCRd",
        "outputId": "aea2fb66-8d17-4b85-f183-d1a2026da587"
      },
      "execution_count": null,
      "outputs": [
        {
          "output_type": "stream",
          "name": "stdout",
          "text": [
            "apel\n",
            "mangga\n",
            "anggur\n"
          ]
        }
      ]
    },
    {
      "cell_type": "code",
      "source": [
        "# fungsi range(10) digunakan untuk membuat iterator sepanjang 10\n",
        "list(range(10))"
      ],
      "metadata": {
        "colab": {
          "base_uri": "https://localhost:8080/"
        },
        "id": "lWf46eTUyP7Q",
        "outputId": "69ef9437-e83a-4800-e65f-dfd8bc484788"
      },
      "execution_count": null,
      "outputs": [
        {
          "output_type": "execute_result",
          "data": {
            "text/plain": [
              "[0, 1, 2, 3, 4, 5, 6, 7, 8, 9]"
            ]
          },
          "metadata": {},
          "execution_count": 9
        }
      ]
    },
    {
      "cell_type": "code",
      "source": [
        "for i in range(10):\n",
        "  print(i)"
      ],
      "metadata": {
        "colab": {
          "base_uri": "https://localhost:8080/"
        },
        "id": "-OcQRKC2PqKa",
        "outputId": "1dc9374e-2376-4b07-80ad-22c0b9f56869"
      },
      "execution_count": null,
      "outputs": [
        {
          "output_type": "stream",
          "name": "stdout",
          "text": [
            "0\n",
            "1\n",
            "2\n",
            "3\n",
            "4\n",
            "5\n",
            "6\n",
            "7\n",
            "8\n",
            "9\n"
          ]
        }
      ]
    },
    {
      "cell_type": "markdown",
      "source": [
        "### While loop"
      ],
      "metadata": {
        "id": "1fE8u0DxyYyF"
      }
    },
    {
      "cell_type": "code",
      "source": [
        "# menghitung mundur x selama x lebih besar dari 0\n",
        "# sama artinya dengan menghitung mundur x sampai x bernilai 0\n",
        "x = 100\n",
        "\n",
        "while x > 0:\n",
        "  print(x)\n",
        "  x = x - 1"
      ],
      "metadata": {
        "colab": {
          "base_uri": "https://localhost:8080/"
        },
        "id": "nYpg_jeGySF_",
        "outputId": "9370e8fc-5240-444c-ef74-3dfde0c10025"
      },
      "execution_count": null,
      "outputs": [
        {
          "output_type": "stream",
          "name": "stdout",
          "text": [
            "100\n",
            "99\n",
            "98\n",
            "97\n",
            "96\n",
            "95\n",
            "94\n",
            "93\n",
            "92\n",
            "91\n",
            "90\n",
            "89\n",
            "88\n",
            "87\n",
            "86\n",
            "85\n",
            "84\n",
            "83\n",
            "82\n",
            "81\n",
            "80\n",
            "79\n",
            "78\n",
            "77\n",
            "76\n",
            "75\n",
            "74\n",
            "73\n",
            "72\n",
            "71\n",
            "70\n",
            "69\n",
            "68\n",
            "67\n",
            "66\n",
            "65\n",
            "64\n",
            "63\n",
            "62\n",
            "61\n",
            "60\n",
            "59\n",
            "58\n",
            "57\n",
            "56\n",
            "55\n",
            "54\n",
            "53\n",
            "52\n",
            "51\n",
            "50\n",
            "49\n",
            "48\n",
            "47\n",
            "46\n",
            "45\n",
            "44\n",
            "43\n",
            "42\n",
            "41\n",
            "40\n",
            "39\n",
            "38\n",
            "37\n",
            "36\n",
            "35\n",
            "34\n",
            "33\n",
            "32\n",
            "31\n",
            "30\n",
            "29\n",
            "28\n",
            "27\n",
            "26\n",
            "25\n",
            "24\n",
            "23\n",
            "22\n",
            "21\n",
            "20\n",
            "19\n",
            "18\n",
            "17\n",
            "16\n",
            "15\n",
            "14\n",
            "13\n",
            "12\n",
            "11\n",
            "10\n",
            "9\n",
            "8\n",
            "7\n",
            "6\n",
            "5\n",
            "4\n",
            "3\n",
            "2\n",
            "1\n"
          ]
        }
      ]
    },
    {
      "cell_type": "code",
      "source": [
        "# potongan kode yang akan menampilkan 'jalan terus' selama tidak ada perintah 'berhenti'\n",
        "perintah = 'jalan'\n",
        "\n",
        "while perintah != 'berhenti':\n",
        "  print('jalan terus')\n",
        "  perintah = input()"
      ],
      "metadata": {
        "id": "7uostGD4zsTE",
        "colab": {
          "base_uri": "https://localhost:8080/"
        },
        "outputId": "4fa3a1ec-8e6f-4f69-8562-8f05db1935ff"
      },
      "execution_count": null,
      "outputs": [
        {
          "name": "stdout",
          "output_type": "stream",
          "text": [
            "jalan terus\n",
            "apapun\n",
            "jalan terus\n",
            "berhenti\n"
          ]
        }
      ]
    },
    {
      "cell_type": "markdown",
      "source": [
        "## break, continue, dan pass"
      ],
      "metadata": {
        "id": "Py8DuCjkQ8qN"
      }
    },
    {
      "cell_type": "code",
      "source": [
        "# break digunakan untuk keluar dari looping\n",
        "# contoh: looping akan berhenti saat i bernilai 6\n",
        "for i in range(10):\n",
        "  print(i)\n",
        "  if i == 6:\n",
        "    break"
      ],
      "metadata": {
        "colab": {
          "base_uri": "https://localhost:8080/"
        },
        "id": "F3o3RRAjQp7N",
        "outputId": "743ca3ea-1dff-48ec-f59d-73d2da48a12c"
      },
      "execution_count": null,
      "outputs": [
        {
          "output_type": "stream",
          "name": "stdout",
          "text": [
            "0\n",
            "1\n",
            "2\n",
            "3\n",
            "4\n",
            "5\n",
            "6\n"
          ]
        }
      ]
    },
    {
      "cell_type": "code",
      "source": [
        "# continue digunakan untuk melewati iterasi yang sedang berlangsung, loncat ke iterasi selanjutnya\n",
        "# contoh: saat i bernilai 7, nilai i tidak ditulis tapi langsung loncat ke iterasi selanjutnya\n",
        "for i in range(10):\n",
        "  if i == 7:\n",
        "    continue\n",
        "  print(i)"
      ],
      "metadata": {
        "colab": {
          "base_uri": "https://localhost:8080/"
        },
        "id": "TjBCcQS6RUZe",
        "outputId": "3cfb8faa-b060-46b8-8eeb-023692af4378"
      },
      "execution_count": 13,
      "outputs": [
        {
          "output_type": "stream",
          "name": "stdout",
          "text": [
            "0\n",
            "1\n",
            "2\n",
            "3\n",
            "4\n",
            "5\n",
            "6\n",
            "8\n",
            "9\n"
          ]
        }
      ]
    },
    {
      "cell_type": "code",
      "source": [
        "# pass digunakan jika kita tidak memiliki apapun untuk dimasukkan ke dalam looping\n",
        "for i in range(10):\n",
        "  pass"
      ],
      "metadata": {
        "id": "2ebQ-_stRcMp"
      },
      "execution_count": null,
      "outputs": []
    }
  ]
}