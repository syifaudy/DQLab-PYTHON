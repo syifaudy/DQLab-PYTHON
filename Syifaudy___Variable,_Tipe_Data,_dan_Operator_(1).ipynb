{
  "nbformat": 4,
  "nbformat_minor": 0,
  "metadata": {
    "colab": {
      "provenance": []
    },
    "kernelspec": {
      "name": "python3",
      "display_name": "Python 3"
    },
    "language_info": {
      "name": "python"
    }
  },
  "cells": [
    {
      "cell_type": "markdown",
      "source": [
        "## Numerik : Integer & Float"
      ],
      "metadata": {
        "id": "owoJn72dGP6v"
      }
    },
    {
      "cell_type": "markdown",
      "source": [
        "integer: bil bulat\n",
        "float: desimal"
      ],
      "metadata": {
        "id": "P_lHFnk96eaf"
      }
    },
    {
      "cell_type": "code",
      "execution_count": 1,
      "metadata": {
        "id": "Mh_MEJXjGZQn"
      },
      "outputs": [],
      "source": [
        "# mengisi nilai 5 pada variable x\n",
        "\n",
        "x = 5"
      ]
    },
    {
      "cell_type": "code",
      "source": [
        "print(x)"
      ],
      "metadata": {
        "colab": {
          "base_uri": "https://localhost:8080/"
        },
        "id": "1kNu0_tw4Gxu",
        "outputId": "d7315568-9634-47be-e9a1-51b9c16542b6"
      },
      "execution_count": 2,
      "outputs": [
        {
          "output_type": "stream",
          "name": "stdout",
          "text": [
            "5\n"
          ]
        }
      ]
    },
    {
      "cell_type": "code",
      "source": [
        "# tipe data dari x adalah integer\n",
        "type(x)"
      ],
      "metadata": {
        "id": "pdsceARNGndX",
        "colab": {
          "base_uri": "https://localhost:8080/"
        },
        "outputId": "207d5b04-244b-48b5-82be-3efb4638ffcc"
      },
      "execution_count": 3,
      "outputs": [
        {
          "output_type": "execute_result",
          "data": {
            "text/plain": [
              "int"
            ]
          },
          "metadata": {},
          "execution_count": 3
        }
      ]
    },
    {
      "cell_type": "code",
      "source": [
        "y = 3.14"
      ],
      "metadata": {
        "id": "oCqJji34GZLx"
      },
      "execution_count": 4,
      "outputs": []
    },
    {
      "cell_type": "code",
      "source": [
        "# tipe data dari y adalah float\n",
        "type(y)"
      ],
      "metadata": {
        "colab": {
          "base_uri": "https://localhost:8080/"
        },
        "id": "F-jdt-V8GcAh",
        "outputId": "bbce3b7b-a7c5-4ccb-9f96-410c3eeb217c"
      },
      "execution_count": 5,
      "outputs": [
        {
          "output_type": "execute_result",
          "data": {
            "text/plain": [
              "float"
            ]
          },
          "metadata": {},
          "execution_count": 5
        }
      ]
    },
    {
      "cell_type": "code",
      "source": [
        "# penjumlahan\n",
        "x + y"
      ],
      "metadata": {
        "colab": {
          "base_uri": "https://localhost:8080/"
        },
        "id": "NVg4-6eFGc6j",
        "outputId": "4f78897f-4274-4f2b-f3e4-2c6a829c950a"
      },
      "execution_count": 6,
      "outputs": [
        {
          "output_type": "execute_result",
          "data": {
            "text/plain": [
              "8.14"
            ]
          },
          "metadata": {},
          "execution_count": 6
        }
      ]
    },
    {
      "cell_type": "code",
      "source": [
        "# pengurangan\n",
        "x - y"
      ],
      "metadata": {
        "colab": {
          "base_uri": "https://localhost:8080/"
        },
        "id": "G4hHBedpGh7f",
        "outputId": "975df5e4-2ea5-41f2-e6aa-ba41f2abd1c5"
      },
      "execution_count": 7,
      "outputs": [
        {
          "output_type": "execute_result",
          "data": {
            "text/plain": [
              "1.8599999999999999"
            ]
          },
          "metadata": {},
          "execution_count": 7
        }
      ]
    },
    {
      "cell_type": "code",
      "source": [
        "# perkalian\n",
        "x * y"
      ],
      "metadata": {
        "colab": {
          "base_uri": "https://localhost:8080/"
        },
        "id": "O_Y2SezVGkkt",
        "outputId": "d53e6e48-35da-4946-fc1f-fb2269c57687"
      },
      "execution_count": 8,
      "outputs": [
        {
          "output_type": "execute_result",
          "data": {
            "text/plain": [
              "15.700000000000001"
            ]
          },
          "metadata": {},
          "execution_count": 8
        }
      ]
    },
    {
      "cell_type": "code",
      "source": [
        "# pangkat\n",
        "x**y"
      ],
      "metadata": {
        "colab": {
          "base_uri": "https://localhost:8080/"
        },
        "id": "3e1Q1e9L5lY3",
        "outputId": "b7f5084b-18d1-4813-aa69-cf084f2ded6c"
      },
      "execution_count": 9,
      "outputs": [
        {
          "output_type": "execute_result",
          "data": {
            "text/plain": [
              "156.59064522818883"
            ]
          },
          "metadata": {},
          "execution_count": 9
        }
      ]
    },
    {
      "cell_type": "code",
      "source": [
        "a = 10\n",
        "b = 3"
      ],
      "metadata": {
        "id": "JfsOeYimGl4a"
      },
      "execution_count": 10,
      "outputs": []
    },
    {
      "cell_type": "code",
      "source": [
        "# pembagian\n",
        "a / b"
      ],
      "metadata": {
        "colab": {
          "base_uri": "https://localhost:8080/"
        },
        "id": "0QafaK3mGw-M",
        "outputId": "550fecf2-d272-4293-ed96-dc6e56cadc1f"
      },
      "execution_count": 11,
      "outputs": [
        {
          "output_type": "execute_result",
          "data": {
            "text/plain": [
              "3.3333333333333335"
            ]
          },
          "metadata": {},
          "execution_count": 11
        }
      ]
    },
    {
      "cell_type": "code",
      "source": [
        "# pembagian disertai pembulatan ke bawah\n",
        "a // b"
      ],
      "metadata": {
        "colab": {
          "base_uri": "https://localhost:8080/"
        },
        "id": "SqByomU2Gx2_",
        "outputId": "88916519-58b1-4414-bb0a-2a9578c78448"
      },
      "execution_count": 12,
      "outputs": [
        {
          "output_type": "execute_result",
          "data": {
            "text/plain": [
              "3"
            ]
          },
          "metadata": {},
          "execution_count": 12
        }
      ]
    },
    {
      "cell_type": "code",
      "source": [
        "\n",
        "# pembagian disertai pembulatan ke atas\n",
        "import math\n",
        "print(math.ceil(a/b))"
      ],
      "metadata": {
        "colab": {
          "base_uri": "https://localhost:8080/"
        },
        "id": "ffaKE-Mk41kM",
        "outputId": "a6dea3cf-4e8f-40dd-c21c-b0dbeab64471"
      },
      "execution_count": 13,
      "outputs": [
        {
          "output_type": "stream",
          "name": "stdout",
          "text": [
            "4\n"
          ]
        }
      ]
    },
    {
      "cell_type": "code",
      "source": [
        "# pembagian disertai pembulatan ke atas\n",
        "print(math.floor(a/b))"
      ],
      "metadata": {
        "colab": {
          "base_uri": "https://localhost:8080/"
        },
        "id": "FELgCBDE5NKL",
        "outputId": "6e7cfa1c-00ed-435b-a54f-5a6142bb159b"
      },
      "execution_count": 14,
      "outputs": [
        {
          "output_type": "stream",
          "name": "stdout",
          "text": [
            "3\n"
          ]
        }
      ]
    },
    {
      "cell_type": "code",
      "source": [
        "# modulo, sisa hasil bagi\n",
        "a % b"
      ],
      "metadata": {
        "colab": {
          "base_uri": "https://localhost:8080/"
        },
        "id": "lkGGdugeGy1o",
        "outputId": "7e807aff-cbb5-430b-ad68-e53055775e72"
      },
      "execution_count": 15,
      "outputs": [
        {
          "output_type": "execute_result",
          "data": {
            "text/plain": [
              "1"
            ]
          },
          "metadata": {},
          "execution_count": 15
        }
      ]
    },
    {
      "cell_type": "code",
      "source": [
        "# negasi\n",
        "-a"
      ],
      "metadata": {
        "colab": {
          "base_uri": "https://localhost:8080/"
        },
        "id": "s7TU0DCkG0qk",
        "outputId": "47c07bae-a2c4-4c3f-9b40-a035b9a6a1a7"
      },
      "execution_count": 16,
      "outputs": [
        {
          "output_type": "execute_result",
          "data": {
            "text/plain": [
              "-10"
            ]
          },
          "metadata": {},
          "execution_count": 16
        }
      ]
    },
    {
      "cell_type": "code",
      "source": [
        "# perpangkatan\n",
        "a ** b"
      ],
      "metadata": {
        "colab": {
          "base_uri": "https://localhost:8080/"
        },
        "id": "kmNynqbbG2UW",
        "outputId": "96789198-6429-4410-fdcf-1cf38332dbca"
      },
      "execution_count": 17,
      "outputs": [
        {
          "output_type": "execute_result",
          "data": {
            "text/plain": [
              "1000"
            ]
          },
          "metadata": {},
          "execution_count": 17
        }
      ]
    },
    {
      "cell_type": "markdown",
      "source": [
        "## Boolean"
      ],
      "metadata": {
        "id": "lI_d6EQWHQN-"
      }
    },
    {
      "cell_type": "code",
      "source": [
        "# cara penulisan nilai True yang benar\n",
        "True"
      ],
      "metadata": {
        "colab": {
          "base_uri": "https://localhost:8080/"
        },
        "id": "F5I2uZtCG4my",
        "outputId": "6a9955bd-5b3a-4676-f7af-28ae3406c0ab"
      },
      "execution_count": 18,
      "outputs": [
        {
          "output_type": "execute_result",
          "data": {
            "text/plain": [
              "True"
            ]
          },
          "metadata": {},
          "execution_count": 18
        }
      ]
    },
    {
      "cell_type": "code",
      "source": [
        "# cara penulisan nilai False yang benar\n",
        "False"
      ],
      "metadata": {
        "colab": {
          "base_uri": "https://localhost:8080/"
        },
        "id": "fGqLEQWgHUV3",
        "outputId": "7be2cd8b-5913-4265-cebd-18c6b3a31e6d"
      },
      "execution_count": 19,
      "outputs": [
        {
          "output_type": "execute_result",
          "data": {
            "text/plain": [
              "False"
            ]
          },
          "metadata": {},
          "execution_count": 19
        }
      ]
    },
    {
      "cell_type": "code",
      "source": [
        "5>3"
      ],
      "metadata": {
        "colab": {
          "base_uri": "https://localhost:8080/"
        },
        "id": "08OU1rrg6dD9",
        "outputId": "d75cd4f8-ee3d-47fb-c3de-e1d127f10bd1"
      },
      "execution_count": 20,
      "outputs": [
        {
          "output_type": "execute_result",
          "data": {
            "text/plain": [
              "True"
            ]
          },
          "metadata": {},
          "execution_count": 20
        }
      ]
    },
    {
      "cell_type": "code",
      "source": [
        "not 5>3"
      ],
      "metadata": {
        "colab": {
          "base_uri": "https://localhost:8080/"
        },
        "id": "o3NegT0U6h8j",
        "outputId": "cdfbdb53-0fe5-4c90-83e9-45f3b61df0d0"
      },
      "execution_count": 21,
      "outputs": [
        {
          "output_type": "execute_result",
          "data": {
            "text/plain": [
              "False"
            ]
          },
          "metadata": {},
          "execution_count": 21
        }
      ]
    },
    {
      "cell_type": "code",
      "source": [
        "# penulisan true yang salah, colab akan menganggap 'true' sebagai nama variabel\n",
        "true"
      ],
      "metadata": {
        "colab": {
          "base_uri": "https://localhost:8080/",
          "height": 165
        },
        "id": "qOWemTWVHVCv",
        "outputId": "ab2468c6-31b6-434d-9b98-4e006699b0e0"
      },
      "execution_count": 22,
      "outputs": [
        {
          "output_type": "error",
          "ename": "NameError",
          "evalue": "name 'true' is not defined",
          "traceback": [
            "\u001b[0;31m---------------------------------------------------------------------------\u001b[0m",
            "\u001b[0;31mNameError\u001b[0m                                 Traceback (most recent call last)",
            "\u001b[0;32m<ipython-input-22-e0b06cd5b964>\u001b[0m in \u001b[0;36m<cell line: 0>\u001b[0;34m()\u001b[0m\n\u001b[1;32m      1\u001b[0m \u001b[0;31m# penulisan true yang salah, colab akan menganggap 'true' sebagai nama variabel\u001b[0m\u001b[0;34m\u001b[0m\u001b[0;34m\u001b[0m\u001b[0m\n\u001b[0;32m----> 2\u001b[0;31m \u001b[0mtrue\u001b[0m\u001b[0;34m\u001b[0m\u001b[0;34m\u001b[0m\u001b[0m\n\u001b[0m",
            "\u001b[0;31mNameError\u001b[0m: name 'true' is not defined"
          ]
        }
      ]
    },
    {
      "cell_type": "code",
      "source": [
        "True==1"
      ],
      "metadata": {
        "colab": {
          "base_uri": "https://localhost:8080/"
        },
        "id": "AxSMmvGL627j",
        "outputId": "a2f8b6fd-bf91-4511-d7c8-886a9ad86009"
      },
      "execution_count": 23,
      "outputs": [
        {
          "output_type": "execute_result",
          "data": {
            "text/plain": [
              "True"
            ]
          },
          "metadata": {},
          "execution_count": 23
        }
      ]
    },
    {
      "cell_type": "code",
      "source": [
        "False==0"
      ],
      "metadata": {
        "colab": {
          "base_uri": "https://localhost:8080/"
        },
        "id": "gGJM3bwu650X",
        "outputId": "aa65e79b-db87-4cb1-bc30-bedee3bf93e8"
      },
      "execution_count": 24,
      "outputs": [
        {
          "output_type": "execute_result",
          "data": {
            "text/plain": [
              "True"
            ]
          },
          "metadata": {},
          "execution_count": 24
        }
      ]
    },
    {
      "cell_type": "code",
      "source": [
        "True+True"
      ],
      "metadata": {
        "colab": {
          "base_uri": "https://localhost:8080/"
        },
        "id": "3lzRVNOc6sRJ",
        "outputId": "67c50e5e-0798-4af8-f9ef-a02cb1e9d9ff"
      },
      "execution_count": 25,
      "outputs": [
        {
          "output_type": "execute_result",
          "data": {
            "text/plain": [
              "2"
            ]
          },
          "metadata": {},
          "execution_count": 25
        }
      ]
    },
    {
      "cell_type": "code",
      "source": [
        "False+False"
      ],
      "metadata": {
        "colab": {
          "base_uri": "https://localhost:8080/"
        },
        "id": "yjGJD3r36zIk",
        "outputId": "c54b3836-6b31-4bc2-8123-7a73d69fe10d"
      },
      "execution_count": 26,
      "outputs": [
        {
          "output_type": "execute_result",
          "data": {
            "text/plain": [
              "0"
            ]
          },
          "metadata": {},
          "execution_count": 26
        }
      ]
    },
    {
      "cell_type": "code",
      "source": [
        "# kondisi yang dihubungkan dengan operator and akan bernilai benar jika semua kondisi benar\n",
        "True and True"
      ],
      "metadata": {
        "colab": {
          "base_uri": "https://localhost:8080/"
        },
        "id": "7s8uP4fRHVwK",
        "outputId": "6e423ad6-3e02-49ba-93f3-9423dd6761ca"
      },
      "execution_count": 27,
      "outputs": [
        {
          "output_type": "execute_result",
          "data": {
            "text/plain": [
              "True"
            ]
          },
          "metadata": {},
          "execution_count": 27
        }
      ]
    },
    {
      "cell_type": "code",
      "source": [
        "# kalau semua true, tapi ada satu false aja, nanti tetep false\n",
        "True and False"
      ],
      "metadata": {
        "colab": {
          "base_uri": "https://localhost:8080/"
        },
        "id": "ad0i85PVHoxX",
        "outputId": "325e6f48-ed81-47e0-807b-fbc2f81bc52f"
      },
      "execution_count": 28,
      "outputs": [
        {
          "output_type": "execute_result",
          "data": {
            "text/plain": [
              "False"
            ]
          },
          "metadata": {},
          "execution_count": 28
        }
      ]
    },
    {
      "cell_type": "code",
      "source": [
        "False and True"
      ],
      "metadata": {
        "colab": {
          "base_uri": "https://localhost:8080/"
        },
        "id": "RYL7HINhAdj-",
        "outputId": "e88d8288-ba16-4e8b-8550-30b18e9d8aa3"
      },
      "execution_count": 29,
      "outputs": [
        {
          "output_type": "execute_result",
          "data": {
            "text/plain": [
              "False"
            ]
          },
          "metadata": {},
          "execution_count": 29
        }
      ]
    },
    {
      "cell_type": "code",
      "source": [
        "\n",
        "False and False"
      ],
      "metadata": {
        "colab": {
          "base_uri": "https://localhost:8080/"
        },
        "id": "ZhrMXk5NHqvm",
        "outputId": "f3614a3c-60b8-4617-c48b-b078fceb1424"
      },
      "execution_count": 30,
      "outputs": [
        {
          "output_type": "execute_result",
          "data": {
            "text/plain": [
              "False"
            ]
          },
          "metadata": {},
          "execution_count": 30
        }
      ]
    },
    {
      "cell_type": "code",
      "source": [
        "# contoh: seseorang akan mendapatkan pekerjaan jika rajin dan upgrade skill\n",
        "is_rajin = True\n",
        "is_upgrade_skill = True\n",
        "\n",
        "get_job = is_rajin and is_upgrade_skill\n",
        "\n",
        "get_job"
      ],
      "metadata": {
        "colab": {
          "base_uri": "https://localhost:8080/"
        },
        "id": "lM2b5IqbHuYh",
        "outputId": "1229928e-0ecb-4e09-ff52-228d6322e32d"
      },
      "execution_count": 31,
      "outputs": [
        {
          "output_type": "execute_result",
          "data": {
            "text/plain": [
              "True"
            ]
          },
          "metadata": {},
          "execution_count": 31
        }
      ]
    },
    {
      "cell_type": "code",
      "source": [
        "# kondisi yang dihubungkan dengan operator or akan bernilai benar jika salah satu kondisi benar\n",
        "True or True"
      ],
      "metadata": {
        "colab": {
          "base_uri": "https://localhost:8080/"
        },
        "id": "fXFmyC35IFu8",
        "outputId": "8bbab685-2d6b-4484-9eeb-25ee2edf10f0"
      },
      "execution_count": 32,
      "outputs": [
        {
          "output_type": "execute_result",
          "data": {
            "text/plain": [
              "True"
            ]
          },
          "metadata": {},
          "execution_count": 32
        }
      ]
    },
    {
      "cell_type": "code",
      "source": [
        "True or False"
      ],
      "metadata": {
        "colab": {
          "base_uri": "https://localhost:8080/"
        },
        "id": "g3tVyz5YIOuv",
        "outputId": "bc8a1af2-24da-451b-9952-b4767f729b12"
      },
      "execution_count": 33,
      "outputs": [
        {
          "output_type": "execute_result",
          "data": {
            "text/plain": [
              "True"
            ]
          },
          "metadata": {},
          "execution_count": 33
        }
      ]
    },
    {
      "cell_type": "code",
      "source": [
        "False or False"
      ],
      "metadata": {
        "colab": {
          "base_uri": "https://localhost:8080/"
        },
        "id": "SOs9oXZ1IPxs",
        "outputId": "4f4eb8f4-aee8-45c0-ae40-9e042ebbaead"
      },
      "execution_count": 34,
      "outputs": [
        {
          "output_type": "execute_result",
          "data": {
            "text/plain": [
              "False"
            ]
          },
          "metadata": {},
          "execution_count": 34
        }
      ]
    },
    {
      "cell_type": "code",
      "source": [
        "# seseorang dikatakan dari fakultas mipa jika dia dari jurusan matematika atau dari jurusan IPA\n",
        "is_matematika = True\n",
        "is_ipa = False\n",
        "\n",
        "is_mipa = is_matematika or is_ipa\n",
        "\n",
        "is_mipa"
      ],
      "metadata": {
        "colab": {
          "base_uri": "https://localhost:8080/"
        },
        "id": "liq7SYsiIRGj",
        "outputId": "9c716586-445c-4abe-d7ac-3bfbfdda4d71"
      },
      "execution_count": 35,
      "outputs": [
        {
          "output_type": "execute_result",
          "data": {
            "text/plain": [
              "True"
            ]
          },
          "metadata": {},
          "execution_count": 35
        }
      ]
    },
    {
      "cell_type": "code",
      "source": [
        "True + True"
      ],
      "metadata": {
        "colab": {
          "base_uri": "https://localhost:8080/"
        },
        "id": "FbWAT8KcLN1C",
        "outputId": "c6bdda40-47ec-4460-ba02-92bb32347d70"
      },
      "execution_count": 36,
      "outputs": [
        {
          "output_type": "execute_result",
          "data": {
            "text/plain": [
              "2"
            ]
          },
          "metadata": {},
          "execution_count": 36
        }
      ]
    },
    {
      "cell_type": "code",
      "source": [
        "False + False"
      ],
      "metadata": {
        "colab": {
          "base_uri": "https://localhost:8080/"
        },
        "id": "B75xGNHILP9f",
        "outputId": "83e9177b-f571-4937-808e-9a21935a44b9"
      },
      "execution_count": 37,
      "outputs": [
        {
          "output_type": "execute_result",
          "data": {
            "text/plain": [
              "0"
            ]
          },
          "metadata": {},
          "execution_count": 37
        }
      ]
    },
    {
      "cell_type": "code",
      "source": [
        "3 * True"
      ],
      "metadata": {
        "colab": {
          "base_uri": "https://localhost:8080/"
        },
        "id": "OAToqm3OLSd7",
        "outputId": "0b127641-f7d2-407e-8115-020236a9d5bb"
      },
      "execution_count": 38,
      "outputs": [
        {
          "output_type": "execute_result",
          "data": {
            "text/plain": [
              "3"
            ]
          },
          "metadata": {},
          "execution_count": 38
        }
      ]
    },
    {
      "cell_type": "code",
      "source": [
        "# Operasi numerik di atas berlaku untuk True dan False karena\n",
        "# True memiliki nilai 1 dan False memiliki nilai 0"
      ],
      "metadata": {
        "id": "HnExMETYLVDi"
      },
      "execution_count": 39,
      "outputs": []
    },
    {
      "cell_type": "code",
      "source": [
        "int(True)"
      ],
      "metadata": {
        "colab": {
          "base_uri": "https://localhost:8080/"
        },
        "id": "aJir-PJVLeqW",
        "outputId": "21c10771-fdcc-478b-c835-d65b4d049403"
      },
      "execution_count": 40,
      "outputs": [
        {
          "output_type": "execute_result",
          "data": {
            "text/plain": [
              "1"
            ]
          },
          "metadata": {},
          "execution_count": 40
        }
      ]
    },
    {
      "cell_type": "code",
      "source": [
        "int(False)"
      ],
      "metadata": {
        "colab": {
          "base_uri": "https://localhost:8080/"
        },
        "id": "_0F9wIOgLgdm",
        "outputId": "41cfda91-72aa-4718-da0f-97f08133ed30"
      },
      "execution_count": 41,
      "outputs": [
        {
          "output_type": "execute_result",
          "data": {
            "text/plain": [
              "0"
            ]
          },
          "metadata": {},
          "execution_count": 41
        }
      ]
    },
    {
      "cell_type": "code",
      "source": [
        "x = float(True)\n",
        "x"
      ],
      "metadata": {
        "colab": {
          "base_uri": "https://localhost:8080/"
        },
        "id": "wXAZDeD6EW23",
        "outputId": "b03e2be5-4896-437a-e283-1e6a751160f8"
      },
      "execution_count": 42,
      "outputs": [
        {
          "output_type": "execute_result",
          "data": {
            "text/plain": [
              "1.0"
            ]
          },
          "metadata": {},
          "execution_count": 42
        }
      ]
    },
    {
      "cell_type": "markdown",
      "source": [
        "## Operasi perbandingan"
      ],
      "metadata": {
        "id": "_XdG6oXhKmcc"
      }
    },
    {
      "cell_type": "code",
      "source": [
        "# Operasi perbandingan melibatkan operator:\n",
        "# > lebih dari\n",
        "# < kurang dari\n",
        "# >= lebih dari atau sama dengan\n",
        "# <= kuranf dari atau sama dengan\n",
        "# == sama dengan\n",
        "# != tidak sama dengan\n",
        "# operasi perbandingan akan menghasilkan True atau False"
      ],
      "metadata": {
        "id": "OsqBW_R3JanJ"
      },
      "execution_count": null,
      "outputs": []
    },
    {
      "cell_type": "code",
      "source": [
        "x = int(input(\"Masukin nilai x: \")) #harus pake int biar bisa ngebandingin\n",
        "if x > 4:\n",
        "  print(\"Nilai x lebih dari 4\")\n",
        "elif x==4:\n",
        "  print(\"Nilai x sama dengan 4\")\n",
        "else:\n",
        "  print(\"Nilai x kurang dari 4\")"
      ],
      "metadata": {
        "colab": {
          "base_uri": "https://localhost:8080/"
        },
        "id": "nxg6CVDmE0Qr",
        "outputId": "5fbfa295-b447-45f3-bd63-fafd51dd7bf2"
      },
      "execution_count": 43,
      "outputs": [
        {
          "output_type": "stream",
          "name": "stdout",
          "text": [
            "Masukin nilai x: 6\n",
            "Nilai x lebih dari 4\n"
          ]
        }
      ]
    },
    {
      "cell_type": "code",
      "source": [
        "x = int(input(\"Masukkan nilai x: \"))\n",
        "y = int(input(\"Masukkan nilai y:\"))\n",
        "if (x % 2 == 0) and (y % 3 == 0):\n",
        "  print(\"x dan y habis dibagi 2 dan 3\")\n",
        "else:\n",
        "  print(\"Lainnya\")"
      ],
      "metadata": {
        "colab": {
          "base_uri": "https://localhost:8080/"
        },
        "id": "t9fT4m4NG7Kv",
        "outputId": "21b00eb4-986b-47bc-99cb-b96ac0e11667"
      },
      "execution_count": 44,
      "outputs": [
        {
          "output_type": "stream",
          "name": "stdout",
          "text": [
            "Masukkan nilai x: 8\n",
            "Masukkan nilai y:7\n",
            "Lainnya\n"
          ]
        }
      ]
    },
    {
      "cell_type": "code",
      "source": [
        "# bmi: body mass index\n",
        "# weight (kg)\n",
        "# height (cm)\n",
        "# bmi: weight/ height(m)2\n",
        "# bmi < 18.5 underweight\n",
        "# 18.5 <= bmi < 24.9 healthy\n",
        "# 24.9 <= bmi < 29.9 overweight\n",
        "# lainnya obesitas"
      ],
      "metadata": {
        "id": "XAxFAAVWWyIz"
      },
      "execution_count": null,
      "outputs": []
    },
    {
      "cell_type": "code",
      "source": [
        "# pseudocode\n",
        "# x = input nilai weight\n",
        "# y = input nilai height\n",
        "# bmi = x/(y:10000)\n",
        "# if bmi < 18.5 print underweight\n",
        "# if 18.5 <= bmi < 24.9 print healthy\n",
        "# 24.9 <= bmi < 29.9 print overweight\n",
        "# else obesitas"
      ],
      "metadata": {
        "id": "HOudud6NYAB9"
      },
      "execution_count": 58,
      "outputs": []
    },
    {
      "cell_type": "code",
      "source": [
        "# python\n",
        "x = float(input(\"Masukkan berat badanmu\"))\n",
        "y = float(input(\"Masukkan tinggi badanmu\"))\n",
        "bmi = x/((y/100)**2)\n",
        "if (bmi < 18.5):\n",
        "  print(f\"\"\" bmi anda adalah {bmi},\n",
        "   underweight\"\"\")\n",
        "elif (18.5 >= bmi) and (bmi < 24.9):\n",
        "  print(f\"\"\" bmi anda adalah {bmi},\n",
        "   healthy\"\"\")\n",
        "elif (24.9 >= bmi) and (bmi < 29.9):\n",
        "  print(f\"\"\" bmi anda adalah {bmi},\n",
        "   overweight\"\"\")\n",
        "else:\n",
        "  print(f\"\"\" bmi anda adalah {bmi},\n",
        "   obesitas\"\"\")\n"
      ],
      "metadata": {
        "colab": {
          "base_uri": "https://localhost:8080/"
        },
        "id": "9XRogRhNZDiJ",
        "outputId": "fc5168a2-b190-4ae0-821e-d71018149522"
      },
      "execution_count": 64,
      "outputs": [
        {
          "output_type": "stream",
          "name": "stdout",
          "text": [
            "Masukkan berat badanmu50\n",
            "Masukkan tinggi badanmu165\n",
            " bmi anda adalah 18.36547291092746,\n",
            "   underweight\n"
          ]
        }
      ]
    },
    {
      "cell_type": "code",
      "source": [
        "print(\"*\"*1)\n",
        "print(\"*\"*2)\n",
        "print(\"*\"*3)\n",
        "print(\"*\"*4)\n",
        "\n"
      ],
      "metadata": {
        "colab": {
          "base_uri": "https://localhost:8080/"
        },
        "id": "7EY18QlLnuSY",
        "outputId": "6cded688-85f7-40f1-eb0e-2441fd24073e"
      },
      "execution_count": 65,
      "outputs": [
        {
          "output_type": "stream",
          "name": "stdout",
          "text": [
            "*\n",
            "**\n",
            "***\n",
            "****\n"
          ]
        }
      ]
    },
    {
      "cell_type": "code",
      "source": [
        "a = 3\n",
        "b = 4"
      ],
      "metadata": {
        "id": "sr15SQneKp3u"
      },
      "execution_count": 54,
      "outputs": []
    },
    {
      "cell_type": "code",
      "source": [
        "for i in range (1,6): # 6 itu kurang dari 6\n",
        "  print('*'*i)"
      ],
      "metadata": {
        "colab": {
          "base_uri": "https://localhost:8080/"
        },
        "id": "b0cDuFiIpY8Z",
        "outputId": "382d34f0-77be-409e-b163-ec5647366ec2"
      },
      "execution_count": 67,
      "outputs": [
        {
          "output_type": "stream",
          "name": "stdout",
          "text": [
            "*\n",
            "**\n",
            "***\n",
            "****\n",
            "*****\n"
          ]
        }
      ]
    },
    {
      "cell_type": "code",
      "source": [
        "list(range(5))"
      ],
      "metadata": {
        "colab": {
          "base_uri": "https://localhost:8080/"
        },
        "id": "kXJGY_6Tp27Z",
        "outputId": "b9c7b1bf-9f77-457f-8163-9f5e97004141"
      },
      "execution_count": 68,
      "outputs": [
        {
          "output_type": "execute_result",
          "data": {
            "text/plain": [
              "[0, 1, 2, 3, 4]"
            ]
          },
          "metadata": {},
          "execution_count": 68
        }
      ]
    },
    {
      "cell_type": "code",
      "source": [
        "list(range(1,5)) # 5 dikurangi 1"
      ],
      "metadata": {
        "colab": {
          "base_uri": "https://localhost:8080/"
        },
        "id": "2HAt6UVKqDE0",
        "outputId": "64d04b2e-21df-46fb-9e3a-9bd69feb013e"
      },
      "execution_count": 69,
      "outputs": [
        {
          "output_type": "execute_result",
          "data": {
            "text/plain": [
              "[1, 2, 3, 4]"
            ]
          },
          "metadata": {},
          "execution_count": 69
        }
      ]
    },
    {
      "cell_type": "code",
      "source": [
        "list(range(1,5,2)) # batasnya sampe 5 doang, loncatnya 2"
      ],
      "metadata": {
        "colab": {
          "base_uri": "https://localhost:8080/"
        },
        "id": "S5Oc27hqqR8A",
        "outputId": "a1365fc9-3083-4d22-e70a-866dce5561c5"
      },
      "execution_count": 70,
      "outputs": [
        {
          "output_type": "execute_result",
          "data": {
            "text/plain": [
              "[1, 3]"
            ]
          },
          "metadata": {},
          "execution_count": 70
        }
      ]
    },
    {
      "cell_type": "code",
      "source": [
        "a > b"
      ],
      "metadata": {
        "colab": {
          "base_uri": "https://localhost:8080/"
        },
        "id": "R1udm4zmK-yw",
        "outputId": "8ccab4d6-e4bd-420b-9733-ee01db254ea3"
      },
      "execution_count": 55,
      "outputs": [
        {
          "output_type": "execute_result",
          "data": {
            "text/plain": [
              "False"
            ]
          },
          "metadata": {},
          "execution_count": 55
        }
      ]
    },
    {
      "cell_type": "code",
      "source": [
        "a < b"
      ],
      "metadata": {
        "colab": {
          "base_uri": "https://localhost:8080/"
        },
        "id": "sIJozRMmK_5O",
        "outputId": "4790bb72-1240-43b8-f567-092b9f0ad123"
      },
      "execution_count": 47,
      "outputs": [
        {
          "output_type": "execute_result",
          "data": {
            "text/plain": [
              "True"
            ]
          },
          "metadata": {},
          "execution_count": 47
        }
      ]
    },
    {
      "cell_type": "code",
      "source": [
        "a == 5"
      ],
      "metadata": {
        "colab": {
          "base_uri": "https://localhost:8080/"
        },
        "id": "iRD-OX9dLA9z",
        "outputId": "3f898101-390a-4830-c2e8-b7fe1a7b9135"
      },
      "execution_count": 48,
      "outputs": [
        {
          "output_type": "execute_result",
          "data": {
            "text/plain": [
              "False"
            ]
          },
          "metadata": {},
          "execution_count": 48
        }
      ]
    },
    {
      "cell_type": "code",
      "source": [
        "a != b"
      ],
      "metadata": {
        "colab": {
          "base_uri": "https://localhost:8080/"
        },
        "id": "v2ValuEeLC8P",
        "outputId": "b7aead50-e5a7-41e3-b539-7f9871c21ef8"
      },
      "execution_count": 49,
      "outputs": [
        {
          "output_type": "execute_result",
          "data": {
            "text/plain": [
              "True"
            ]
          },
          "metadata": {},
          "execution_count": 49
        }
      ]
    },
    {
      "cell_type": "code",
      "source": [
        "if 5>3:\n",
        "  print(\"Hello\")\n",
        "else:\n",
        "  print(\"Bye\")"
      ],
      "metadata": {
        "colab": {
          "base_uri": "https://localhost:8080/"
        },
        "id": "ApdXYZM57FgE",
        "outputId": "c7c963cd-98ac-4eb1-b847-e1d725538128"
      },
      "execution_count": null,
      "outputs": [
        {
          "output_type": "stream",
          "name": "stdout",
          "text": [
            "Hello\n"
          ]
        }
      ]
    },
    {
      "cell_type": "markdown",
      "source": [
        "## String"
      ],
      "metadata": {
        "id": "Oqk7wPjCLxY3"
      }
    },
    {
      "cell_type": "markdown",
      "source": [
        "\n",
        "\n",
        "1.   Single string: kalimatnya aman\n",
        "2.   Double string: jum'at , bisa semua jg\n",
        "\n"
      ],
      "metadata": {
        "id": "sp_2Gn9P7o_M"
      }
    },
    {
      "cell_type": "code",
      "source": [
        "# nilai string diapit oleh tanda kutip\n",
        "print('Hello world')\n",
        "print(\"Hello Jum'at\")\n",
        "print(\"\"\"Aku manusia,\n",
        "Manusia Super\"\"\")"
      ],
      "metadata": {
        "id": "l-fDf8_xLFCC",
        "colab": {
          "base_uri": "https://localhost:8080/"
        },
        "outputId": "e7623e5c-c478-4bb3-c734-00f837415f31"
      },
      "execution_count": 72,
      "outputs": [
        {
          "output_type": "stream",
          "name": "stdout",
          "text": [
            "Hello world\n",
            "Hello Jum'at\n",
            "Aku manusia,\n",
            "Manusia Super\n"
          ]
        }
      ]
    },
    {
      "cell_type": "code",
      "source": [
        "nama_depan = 'Elon'\n",
        "nama_belakang = 'Musk'\n",
        "\n",
        "nama_depan + ' ' + nama_belakang # spasi"
      ],
      "metadata": {
        "colab": {
          "base_uri": "https://localhost:8080/",
          "height": 36
        },
        "id": "Epb5IE2ZL1T4",
        "outputId": "3aa5fa10-8280-440d-e43b-6ef55a8f5648"
      },
      "execution_count": null,
      "outputs": [
        {
          "output_type": "execute_result",
          "data": {
            "text/plain": [
              "'Elon Musk'"
            ],
            "application/vnd.google.colaboratory.intrinsic+json": {
              "type": "string"
            }
          },
          "metadata": {},
          "execution_count": 48
        }
      ]
    },
    {
      "cell_type": "code",
      "source": [
        "'Python' * 10"
      ],
      "metadata": {
        "colab": {
          "base_uri": "https://localhost:8080/",
          "height": 36
        },
        "id": "1xhDDxV9MNEp",
        "outputId": "b35e140a-6fb8-45f3-d2c5-73e1c08f4461"
      },
      "execution_count": 73,
      "outputs": [
        {
          "output_type": "execute_result",
          "data": {
            "text/plain": [
              "'PythonPythonPythonPythonPythonPythonPythonPythonPythonPython'"
            ],
            "application/vnd.google.colaboratory.intrinsic+json": {
              "type": "string"
            }
          },
          "metadata": {},
          "execution_count": 73
        }
      ]
    },
    {
      "cell_type": "code",
      "source": [
        "'Python'.upper()"
      ],
      "metadata": {
        "colab": {
          "base_uri": "https://localhost:8080/",
          "height": 36
        },
        "id": "vmUWd3P6Mkt_",
        "outputId": "57271c55-c540-41b2-f0aa-14398be1c055"
      },
      "execution_count": 74,
      "outputs": [
        {
          "output_type": "execute_result",
          "data": {
            "text/plain": [
              "'PYTHON'"
            ],
            "application/vnd.google.colaboratory.intrinsic+json": {
              "type": "string"
            }
          },
          "metadata": {},
          "execution_count": 74
        }
      ]
    },
    {
      "cell_type": "code",
      "source": [
        "'PyThon'.lower()"
      ],
      "metadata": {
        "colab": {
          "base_uri": "https://localhost:8080/",
          "height": 36
        },
        "id": "VrawS_mWMsuI",
        "outputId": "e27c90bc-cc4e-4a02-e078-1b6568c20dae"
      },
      "execution_count": 75,
      "outputs": [
        {
          "output_type": "execute_result",
          "data": {
            "text/plain": [
              "'python'"
            ],
            "application/vnd.google.colaboratory.intrinsic+json": {
              "type": "string"
            }
          },
          "metadata": {},
          "execution_count": 75
        }
      ]
    },
    {
      "cell_type": "code",
      "source": [
        "'python'.capitalize()"
      ],
      "metadata": {
        "colab": {
          "base_uri": "https://localhost:8080/",
          "height": 36
        },
        "id": "m3hYIlsXrvJa",
        "outputId": "fffe4c2c-1e1e-4439-e740-78d6d171c8cc"
      },
      "execution_count": 80,
      "outputs": [
        {
          "output_type": "execute_result",
          "data": {
            "text/plain": [
              "'Python'"
            ],
            "application/vnd.google.colaboratory.intrinsic+json": {
              "type": "string"
            }
          },
          "metadata": {},
          "execution_count": 80
        }
      ]
    },
    {
      "cell_type": "code",
      "source": [
        "'PyThon'.swapcase()"
      ],
      "metadata": {
        "colab": {
          "base_uri": "https://localhost:8080/",
          "height": 36
        },
        "id": "5_AwzOJeMwWe",
        "outputId": "c28f1fb2-c51c-43a3-f38c-f916453d2ea4"
      },
      "execution_count": 76,
      "outputs": [
        {
          "output_type": "execute_result",
          "data": {
            "text/plain": [
              "'pYtHON'"
            ],
            "application/vnd.google.colaboratory.intrinsic+json": {
              "type": "string"
            }
          },
          "metadata": {},
          "execution_count": 76
        }
      ]
    },
    {
      "cell_type": "code",
      "source": [
        "'Aku suka belajar Python'.count('u')"
      ],
      "metadata": {
        "colab": {
          "base_uri": "https://localhost:8080/"
        },
        "id": "HBFnGtcsMzdg",
        "outputId": "459cf0fc-4f16-4bf8-f03d-89559094e325"
      },
      "execution_count": 77,
      "outputs": [
        {
          "output_type": "execute_result",
          "data": {
            "text/plain": [
              "2"
            ]
          },
          "metadata": {},
          "execution_count": 77
        }
      ]
    },
    {
      "cell_type": "code",
      "source": [
        "'Aku suka belajar Python'.replace('u','i')"
      ],
      "metadata": {
        "colab": {
          "base_uri": "https://localhost:8080/",
          "height": 36
        },
        "id": "KSw4xwk9M39I",
        "outputId": "bc833cc9-0bed-4696-88ae-96644c3c31f6"
      },
      "execution_count": 78,
      "outputs": [
        {
          "output_type": "execute_result",
          "data": {
            "text/plain": [
              "'Aki sika belajar Python'"
            ],
            "application/vnd.google.colaboratory.intrinsic+json": {
              "type": "string"
            }
          },
          "metadata": {},
          "execution_count": 78
        }
      ]
    },
    {
      "cell_type": "code",
      "source": [
        "'      Aku suka belajar Python        '.strip()"
      ],
      "metadata": {
        "colab": {
          "base_uri": "https://localhost:8080/",
          "height": 36
        },
        "id": "00XokUFRM_IW",
        "outputId": "868c9b21-000b-4668-eb11-2972d9161110"
      },
      "execution_count": 79,
      "outputs": [
        {
          "output_type": "execute_result",
          "data": {
            "text/plain": [
              "'Aku suka belajar Python'"
            ],
            "application/vnd.google.colaboratory.intrinsic+json": {
              "type": "string"
            }
          },
          "metadata": {},
          "execution_count": 79
        }
      ]
    },
    {
      "cell_type": "code",
      "source": [
        "'python'[0:5]"
      ],
      "metadata": {
        "colab": {
          "base_uri": "https://localhost:8080/",
          "height": 36
        },
        "id": "NRAgDxLhuaDq",
        "outputId": "897ff0e3-5ace-427f-cd03-41d4cf80954d"
      },
      "execution_count": 81,
      "outputs": [
        {
          "output_type": "execute_result",
          "data": {
            "text/plain": [
              "'pytho'"
            ],
            "application/vnd.google.colaboratory.intrinsic+json": {
              "type": "string"
            }
          },
          "metadata": {},
          "execution_count": 81
        }
      ]
    }
  ]
}